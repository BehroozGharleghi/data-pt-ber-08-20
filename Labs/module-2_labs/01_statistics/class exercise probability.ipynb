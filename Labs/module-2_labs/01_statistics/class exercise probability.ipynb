{
 "cells": [
  {
   "cell_type": "markdown",
   "metadata": {},
   "source": [
    "### discrete uniform distribution"
   ]
  },
  {
   "cell_type": "code",
   "execution_count": 3,
   "metadata": {},
   "outputs": [],
   "source": [
    "import scipy.stats\n",
    "import numpy as np\n",
    "import matplotlib.pyplot as plt"
   ]
  },
  {
   "cell_type": "code",
   "execution_count": 4,
   "metadata": {},
   "outputs": [],
   "source": [
    "from scipy.stats import randint "
   ]
  },
  {
   "cell_type": "code",
   "execution_count": 5,
   "metadata": {},
   "outputs": [
    {
     "data": {
      "text/plain": [
       "0.14285714285714285"
      ]
     },
     "execution_count": 5,
     "metadata": {},
     "output_type": "execute_result"
    }
   ],
   "source": [
    "# this is a uniform distribution:\n",
    "uni = randint(0, 7)\n",
    "# probability of each number: pmf is probability mass function\n",
    "uni.pmf(2)"
   ]
  },
  {
   "cell_type": "code",
   "execution_count": 6,
   "metadata": {},
   "outputs": [
    {
     "data": {
      "text/plain": [
       "0.0"
      ]
     },
     "execution_count": 6,
     "metadata": {},
     "output_type": "execute_result"
    }
   ],
   "source": [
    "# here is the cumulative distribution function: \n",
    "#uni.cdf(7)\n",
    "uni.cdf(-5)"
   ]
  },
  {
   "cell_type": "code",
   "execution_count": 7,
   "metadata": {},
   "outputs": [
    {
     "data": {
      "text/plain": [
       "array([4, 1, 5, 2, 6, 2, 5, 3, 6, 3])"
      ]
     },
     "execution_count": 7,
     "metadata": {},
     "output_type": "execute_result"
    }
   ],
   "source": [
    "#\n",
    "# random variable sample: this means we roll the die 10 times \n",
    "uni.rvs(size = 10)"
   ]
  },
  {
   "cell_type": "markdown",
   "metadata": {},
   "source": [
    "### Bernoulli distribution"
   ]
  },
  {
   "cell_type": "code",
   "execution_count": 45,
   "metadata": {},
   "outputs": [],
   "source": [
    "# bern can only take two argument, like success and failure (p, and 1-p), p is always success so it takes value 1.\n",
    "p=0.8\n",
    "bern = scipy.stats.bernoulli(p)"
   ]
  },
  {
   "cell_type": "code",
   "execution_count": 46,
   "metadata": {},
   "outputs": [
    {
     "data": {
      "text/plain": [
       "0.8"
      ]
     },
     "execution_count": 46,
     "metadata": {},
     "output_type": "execute_result"
    }
   ],
   "source": [
    "# pmf says what is the probability of that number only. In tossing, let say the prob of 3? \n",
    "bern.pmf(1)"
   ]
  },
  {
   "cell_type": "code",
   "execution_count": 47,
   "metadata": {},
   "outputs": [
    {
     "data": {
      "text/plain": [
       "0.19999999999999996"
      ]
     },
     "execution_count": 47,
     "metadata": {},
     "output_type": "execute_result"
    }
   ],
   "source": [
    "# what is the difference between cdf nad bern? cumulative prob function sayys what is the chance of getting a die to\n",
    "# be 3? this will be translated that anything 3 and below (2, and 1 also) \n",
    "# \n",
    "bern.cdf(0)"
   ]
  },
  {
   "cell_type": "code",
   "execution_count": 16,
   "metadata": {},
   "outputs": [
    {
     "data": {
      "text/plain": [
       "[<matplotlib.lines.Line2D at 0x7fcf33f67520>]"
      ]
     },
     "execution_count": 16,
     "metadata": {},
     "output_type": "execute_result"
    },
    {
     "data": {
      "image/png": "[encoded data removed]",
      "text/plain": [
       "<Figure size 432x288 with 1 Axes>"
      ]
     },
     "metadata": {
      "needs_background": "light"
     },
     "output_type": "display_data"
    }
   ],
   "source": [
    "#the shape of the digram chenges based on the value of p, here p=0.8\n",
    "numrange = range(10)\n",
    "plt.plot(numrange, bern.pmf(numrange), 'o')"
   ]
  },
  {
   "cell_type": "code",
   "execution_count": 20,
   "metadata": {},
   "outputs": [
    {
     "data": {
      "text/plain": [
       "[<matplotlib.lines.Line2D at 0x7fcf349135e0>]"
      ]
     },
     "execution_count": 20,
     "metadata": {},
     "output_type": "execute_result"
    },
    {
     "data": {
      "image/png": "[encoded data removed]",
      "text/plain": [
       "<Figure size 432x288 with 1 Axes>"
      ]
     },
     "metadata": {
      "needs_background": "light"
     },
     "output_type": "display_data"
    }
   ],
   "source": [
    "p=0.6\n",
    "bern= scipy.stats.bernoulli(p)\n",
    "plt.plot(numrange, bern.pmf(numrange), 'o') # '0'"
   ]
  },
  {
   "cell_type": "code",
   "execution_count": 17,
   "metadata": {},
   "outputs": [
    {
     "data": {
      "text/plain": [
       "[<matplotlib.lines.Line2D at 0x7fcf33fbef40>]"
      ]
     },
     "execution_count": 17,
     "metadata": {},
     "output_type": "execute_result"
    },
    {
     "data": {
      "image/png": "[encoded data removed]",
      "text/plain": [
       "<Figure size 432x288 with 1 Axes>"
      ]
     },
     "metadata": {
      "needs_background": "light"
     },
     "output_type": "display_data"
    }
   ],
   "source": [
    "plt.plot(numrange, bern.cdf(numrange))"
   ]
  },
  {
   "cell_type": "code",
   "execution_count": 48,
   "metadata": {},
   "outputs": [
    {
     "ename": "NameError",
     "evalue": "name 'bernoulli' is not defined",
     "output_type": "error",
     "traceback": [
      "\u001b[0;31m---------------------------------------------------------------------------\u001b[0m",
      "\u001b[0;31mNameError\u001b[0m                                 Traceback (most recent call last)",
      "\u001b[0;32m<ipython-input-48-f5f39c33cb51>\u001b[0m in \u001b[0;36m<module>\u001b[0;34m\u001b[0m\n\u001b[1;32m      1\u001b[0m \u001b[0mp\u001b[0m \u001b[0;34m=\u001b[0m \u001b[0;36m0.6\u001b[0m\u001b[0;34m\u001b[0m\u001b[0;34m\u001b[0m\u001b[0m\n\u001b[0;32m----> 2\u001b[0;31m \u001b[0mX\u001b[0m \u001b[0;34m=\u001b[0m \u001b[0mbernoulli\u001b[0m\u001b[0;34m.\u001b[0m\u001b[0mrvs\u001b[0m\u001b[0;34m(\u001b[0m\u001b[0mp\u001b[0m\u001b[0;34m,\u001b[0m \u001b[0msize\u001b[0m\u001b[0;34m=\u001b[0m\u001b[0;36m100\u001b[0m\u001b[0;34m)\u001b[0m\u001b[0;34m\u001b[0m\u001b[0;34m\u001b[0m\u001b[0m\n\u001b[0m\u001b[1;32m      3\u001b[0m \u001b[0mplt\u001b[0m\u001b[0;34m.\u001b[0m\u001b[0mhist\u001b[0m\u001b[0;34m(\u001b[0m\u001b[0mX\u001b[0m\u001b[0;34m,\u001b[0m \u001b[0malign\u001b[0m\u001b[0;34m=\u001b[0m\u001b[0;34m'mid'\u001b[0m\u001b[0;34m)\u001b[0m\u001b[0;34m\u001b[0m\u001b[0;34m\u001b[0m\u001b[0m\n",
      "\u001b[0;31mNameError\u001b[0m: name 'bernoulli' is not defined"
     ]
    }
   ],
   "source": [
    "p=0.6\n",
    "bern= scipy.stats.bernoulli(p)\n",
    "x = bern.rvs(size = 10000)\n",
    "plt.hist(x)\n",
    "\n"
   ]
  },
  {
   "cell_type": "markdown",
   "metadata": {},
   "source": [
    "### Binominal distribution\n",
    "### n trials\n",
    "### x: number of successes"
   ]
  },
  {
   "cell_type": "code",
   "execution_count": null,
   "metadata": {},
   "outputs": [],
   "source": [
    "# we are tossing a coin 2 times, and writng down the number of heads, what shape will the resulting distribution have?\n",
    "#pls write the sample space and pmf?\n",
    "\n",
    "#{[h,h], [t,t], [h,t], [t,h]}\n",
    "#x: number of heads\n",
    "#omega: sample space[0, 1, 2]\n",
    "# now we try it with python below:\n"
   ]
  },
  {
   "cell_type": "code",
   "execution_count": 26,
   "metadata": {},
   "outputs": [
    {
     "data": {
      "text/plain": [
       "0.25"
      ]
     },
     "execution_count": 26,
     "metadata": {},
     "output_type": "execute_result"
    }
   ],
   "source": [
    "n=2\n",
    "p=0.5\n",
    "binomial = scipy.stats.binom(n,p)\n",
    "binomial.pmf(0)"
   ]
  },
  {
   "cell_type": "code",
   "execution_count": 27,
   "metadata": {},
   "outputs": [
    {
     "data": {
      "text/plain": [
       "0.5"
      ]
     },
     "execution_count": 27,
     "metadata": {},
     "output_type": "execute_result"
    }
   ],
   "source": [
    "binomial.pmf(1)"
   ]
  },
  {
   "cell_type": "code",
   "execution_count": 28,
   "metadata": {},
   "outputs": [
    {
     "data": {
      "text/plain": [
       "0.25"
      ]
     },
     "execution_count": 28,
     "metadata": {},
     "output_type": "execute_result"
    }
   ],
   "source": [
    "binomial.pmf(2)"
   ]
  },
  {
   "cell_type": "code",
   "execution_count": 30,
   "metadata": {},
   "outputs": [
    {
     "data": {
      "text/plain": [
       "[<matplotlib.lines.Line2D at 0x7fcf34def6a0>]"
      ]
     },
     "execution_count": 30,
     "metadata": {},
     "output_type": "execute_result"
    },
    {
     "data": {
      "image/png": "[encoded data removed]",
      "text/plain": [
       "<Figure size 432x288 with 1 Axes>"
      ]
     },
     "metadata": {
      "needs_background": "light"
     },
     "output_type": "display_data"
    }
   ],
   "source": [
    "plt.plot(numrange, binomial.pmf(numrange), 'd')"
   ]
  },
  {
   "cell_type": "code",
   "execution_count": 31,
   "metadata": {},
   "outputs": [
    {
     "data": {
      "text/plain": [
       "[<matplotlib.lines.Line2D at 0x7fcf34ef56a0>]"
      ]
     },
     "execution_count": 31,
     "metadata": {},
     "output_type": "execute_result"
    },
    {
     "data": {
      "image/png": "[encoded data removed]",
      "text/plain": [
       "<Figure size 432x288 with 1 Axes>"
      ]
     },
     "metadata": {
      "needs_background": "light"
     },
     "output_type": "display_data"
    }
   ],
   "source": [
    "plt.plot(numrange, binomial.cdf(numrange))\n",
    "#it will have always this shape:"
   ]
  },
  {
   "cell_type": "code",
   "execution_count": 32,
   "metadata": {},
   "outputs": [
    {
     "data": {
      "text/plain": [
       "(array([29.,  0.,  0.,  0.,  0., 47.,  0.,  0.,  0., 24.]),\n",
       " array([0. , 0.2, 0.4, 0.6, 0.8, 1. , 1.2, 1.4, 1.6, 1.8, 2. ]),\n",
       " <a list of 10 Patch objects>)"
      ]
     },
     "execution_count": 32,
     "metadata": {},
     "output_type": "execute_result"
    },
    {
     "data": {
      "image/png": "[encoded data removed]",
      "text/plain": [
       "<Figure size 432x288 with 1 Axes>"
      ]
     },
     "metadata": {
      "needs_background": "light"
     },
     "output_type": "display_data"
    }
   ],
   "source": [
    "x = binomial.rvs(size = 100)\n",
    "plt.hist(x)"
   ]
  },
  {
   "cell_type": "code",
   "execution_count": 38,
   "metadata": {},
   "outputs": [
    {
     "data": {
      "text/plain": [
       "(array([ 2.,  3.,  9., 11., 17., 17., 19., 11.,  6.,  5.]),\n",
       " array([ 5.,  6.,  7.,  8.,  9., 10., 11., 12., 13., 14., 15.]),\n",
       " <a list of 10 Patch objects>)"
      ]
     },
     "execution_count": 38,
     "metadata": {},
     "output_type": "execute_result"
    },
    {
     "data": {
      "image/png": "[encoded data removed]",
      "text/plain": [
       "<Figure size 432x288 with 1 Axes>"
      ]
     },
     "metadata": {
      "needs_background": "light"
     },
     "output_type": "display_data"
    }
   ],
   "source": [
    "n=20\n",
    "p=0.5\n",
    "binomial = scipy.stats.binom(n,p)\n",
    "\n",
    "\n",
    "# x is number of heads (number os suscess)\n",
    "x = binomial.rvs(size = 100)\n",
    "plt.hist(x)"
   ]
  },
  {
   "cell_type": "code",
   "execution_count": 41,
   "metadata": {},
   "outputs": [
    {
     "data": {
      "text/plain": [
       "<matplotlib.collections.LineCollection at 0x7fcf354f40d0>"
      ]
     },
     "execution_count": 41,
     "metadata": {},
     "output_type": "execute_result"
    },
    {
     "data": {
      "image/png": "[encoded data removed]",
      "text/plain": [
       "<Figure size 432x288 with 1 Axes>"
      ]
     },
     "metadata": {
      "needs_background": "light"
     },
     "output_type": "display_data"
    }
   ],
   "source": [
    "#this is theoretical concept.\n",
    "#tossing a coin 20 times, and get the number of heads:\n",
    "x=range(20)\n",
    "plt.plot(x, binomial.pmf(x), 'o')\n",
    "plt.vlines(x, 0, binomial.pmf(x))"
   ]
  },
  {
   "cell_type": "code",
   "execution_count": 42,
   "metadata": {},
   "outputs": [
    {
     "name": "stdout",
     "output_type": "stream",
     "text": [
      "range(0, 20)\n"
     ]
    }
   ],
   "source": [
    "print(x)"
   ]
  },
  {
   "cell_type": "markdown",
   "metadata": {},
   "source": [
    "### Poisson Distribution"
   ]
  },
  {
   "cell_type": "code",
   "execution_count": null,
   "metadata": {},
   "outputs": [],
   "source": [
    "#in a bank, the possibility that the first 10 customers arrive.\n",
    "# or how many customers arrive in bank per hour, morning is low, lunch time is high, evening is higher, etc.\n",
    "\n"
   ]
  },
  {
   "cell_type": "code",
   "execution_count": null,
   "metadata": {},
   "outputs": [],
   "source": []
  },
  {
   "cell_type": "markdown",
   "metadata": {},
   "source": [
    "### continious probability distribution "
   ]
  },
  {
   "cell_type": "code",
   "execution_count": null,
   "metadata": {},
   "outputs": [],
   "source": [
    "# we can convert CPD into discrtete propability disstribution via bins (like histogram graph)\n",
    "\n"
   ]
  },
  {
   "cell_type": "markdown",
   "metadata": {},
   "source": [
    "### continious uniform distribution"
   ]
  },
  {
   "cell_type": "code",
   "execution_count": 50,
   "metadata": {},
   "outputs": [],
   "source": [
    "from scipy.stats import uniform\n",
    "uniform() # this is a uniform distrubiytion between o ans 1"
   ]
  },
  {
   "cell_type": "code",
   "execution_count": 56,
   "metadata": {},
   "outputs": [
    {
     "name": "stdout",
     "output_type": "stream",
     "text": [
      "[0.450242   0.36838704 0.60038807 0.26288425 0.61702226 0.03056294\n",
      " 0.6257779  0.83699906 0.2052652  0.14502636]\n"
     ]
    }
   ],
   "source": [
    "cuni=uniform()\n",
    "test = cuni.rvs(size=10)\n",
    "print(test)"
   ]
  },
  {
   "cell_type": "code",
   "execution_count": 58,
   "metadata": {},
   "outputs": [
    {
     "name": "stdout",
     "output_type": "stream",
     "text": [
      "0.45024199769386586\n"
     ]
    }
   ],
   "source": [
    "# now is we would like to check if a specific number is located in the range like:\n",
    "print(test[0]) # 0 is the index of the list"
   ]
  },
  {
   "cell_type": "code",
   "execution_count": 61,
   "metadata": {},
   "outputs": [
    {
     "data": {
      "text/plain": [
       "(array([ 97., 102.,  96.,  98.,  99., 114., 110., 100.,  84., 100.]),\n",
       " array([0.00445428, 0.10400285, 0.20355143, 0.3031    , 0.40264857,\n",
       "        0.50219715, 0.60174572, 0.70129429, 0.80084287, 0.90039144,\n",
       "        0.99994001]),\n",
       " <a list of 10 Patch objects>)"
      ]
     },
     "execution_count": 61,
     "metadata": {},
     "output_type": "execute_result"
    },
    {
     "data": {
      "image/png": "[encoded data removed]",
      "text/plain": [
       "<Figure size 432x288 with 1 Axes>"
      ]
     },
     "metadata": {
      "needs_background": "light"
     },
     "output_type": "display_data"
    }
   ],
   "source": [
    "x = cuni.rvs(size=1000)\n",
    "plt.hist(x)"
   ]
  },
  {
   "cell_type": "code",
   "execution_count": 63,
   "metadata": {},
   "outputs": [
    {
     "data": {
      "image/png": "[encoded data removed]",
      "text/plain": [
       "<Figure size 432x288 with 1 Axes>"
      ]
     },
     "metadata": {
      "needs_background": "light"
     },
     "output_type": "display_data"
    }
   ],
   "source": [
    "x = cuni.rvs(size=1000)\n",
    "plt.hist(x, bins=100)\n",
    "plt.show()"
   ]
  },
  {
   "cell_type": "code",
   "execution_count": 64,
   "metadata": {},
   "outputs": [
    {
     "data": {
      "image/png": "[encoded data removed]",
      "text/plain": [
       "<Figure size 432x288 with 1 Axes>"
      ]
     },
     "metadata": {
      "needs_background": "light"
     },
     "output_type": "display_data"
    }
   ],
   "source": [
    "x = cuni.rvs(size=10)\n",
    "plt.hist(x, bins=10)\n",
    "plt.show()"
   ]
  },
  {
   "cell_type": "code",
   "execution_count": 65,
   "metadata": {},
   "outputs": [
    {
     "name": "stdout",
     "output_type": "stream",
     "text": [
      "[0.03568425 0.57063403 0.77086774 0.98518504 0.65940236 0.30699238\n",
      " 0.04002788 0.76507201 0.78433398 0.56259857]\n"
     ]
    }
   ],
   "source": [
    "print(x)"
   ]
  },
  {
   "cell_type": "code",
   "execution_count": 66,
   "metadata": {},
   "outputs": [
    {
     "data": {
      "text/plain": [
       "array([-1.        , -0.997998  , -0.995996  , -0.99399399, -0.99199199,\n",
       "       -0.98998999, -0.98798799, -0.98598599, -0.98398398, -0.98198198,\n",
       "       -0.97997998, -0.97797798, -0.97597598, -0.97397397, -0.97197197,\n",
       "       -0.96996997, -0.96796797, -0.96596597, -0.96396396, -0.96196196,\n",
       "       -0.95995996, -0.95795796, -0.95595596, -0.95395395, -0.95195195,\n",
       "       -0.94994995, -0.94794795, -0.94594595, -0.94394394, -0.94194194,\n",
       "       -0.93993994, -0.93793794, -0.93593594, -0.93393393, -0.93193193,\n",
       "       -0.92992993, -0.92792793, -0.92592593, -0.92392392, -0.92192192,\n",
       "       -0.91991992, -0.91791792, -0.91591592, -0.91391391, -0.91191191,\n",
       "       -0.90990991, -0.90790791, -0.90590591, -0.9039039 , -0.9019019 ,\n",
       "       -0.8998999 , -0.8978979 , -0.8958959 , -0.89389389, -0.89189189,\n",
       "       -0.88988989, -0.88788789, -0.88588589, -0.88388388, -0.88188188,\n",
       "       -0.87987988, -0.87787788, -0.87587588, -0.87387387, -0.87187187,\n",
       "       -0.86986987, -0.86786787, -0.86586587, -0.86386386, -0.86186186,\n",
       "       -0.85985986, -0.85785786, -0.85585586, -0.85385385, -0.85185185,\n",
       "       -0.84984985, -0.84784785, -0.84584585, -0.84384384, -0.84184184,\n",
       "       -0.83983984, -0.83783784, -0.83583584, -0.83383383, -0.83183183,\n",
       "       -0.82982983, -0.82782783, -0.82582583, -0.82382382, -0.82182182,\n",
       "       -0.81981982, -0.81781782, -0.81581582, -0.81381381, -0.81181181,\n",
       "       -0.80980981, -0.80780781, -0.80580581, -0.8038038 , -0.8018018 ,\n",
       "       -0.7997998 , -0.7977978 , -0.7957958 , -0.79379379, -0.79179179,\n",
       "       -0.78978979, -0.78778779, -0.78578579, -0.78378378, -0.78178178,\n",
       "       -0.77977978, -0.77777778, -0.77577578, -0.77377377, -0.77177177,\n",
       "       -0.76976977, -0.76776777, -0.76576577, -0.76376376, -0.76176176,\n",
       "       -0.75975976, -0.75775776, -0.75575576, -0.75375375, -0.75175175,\n",
       "       -0.74974975, -0.74774775, -0.74574575, -0.74374374, -0.74174174,\n",
       "       -0.73973974, -0.73773774, -0.73573574, -0.73373373, -0.73173173,\n",
       "       -0.72972973, -0.72772773, -0.72572573, -0.72372372, -0.72172172,\n",
       "       -0.71971972, -0.71771772, -0.71571572, -0.71371371, -0.71171171,\n",
       "       -0.70970971, -0.70770771, -0.70570571, -0.7037037 , -0.7017017 ,\n",
       "       -0.6996997 , -0.6976977 , -0.6956957 , -0.69369369, -0.69169169,\n",
       "       -0.68968969, -0.68768769, -0.68568569, -0.68368368, -0.68168168,\n",
       "       -0.67967968, -0.67767768, -0.67567568, -0.67367367, -0.67167167,\n",
       "       -0.66966967, -0.66766767, -0.66566567, -0.66366366, -0.66166166,\n",
       "       -0.65965966, -0.65765766, -0.65565566, -0.65365365, -0.65165165,\n",
       "       -0.64964965, -0.64764765, -0.64564565, -0.64364364, -0.64164164,\n",
       "       -0.63963964, -0.63763764, -0.63563564, -0.63363363, -0.63163163,\n",
       "       -0.62962963, -0.62762763, -0.62562563, -0.62362362, -0.62162162,\n",
       "       -0.61961962, -0.61761762, -0.61561562, -0.61361361, -0.61161161,\n",
       "       -0.60960961, -0.60760761, -0.60560561, -0.6036036 , -0.6016016 ,\n",
       "       -0.5995996 , -0.5975976 , -0.5955956 , -0.59359359, -0.59159159,\n",
       "       -0.58958959, -0.58758759, -0.58558559, -0.58358358, -0.58158158,\n",
       "       -0.57957958, -0.57757758, -0.57557558, -0.57357357, -0.57157157,\n",
       "       -0.56956957, -0.56756757, -0.56556557, -0.56356356, -0.56156156,\n",
       "       -0.55955956, -0.55755756, -0.55555556, -0.55355355, -0.55155155,\n",
       "       -0.54954955, -0.54754755, -0.54554555, -0.54354354, -0.54154154,\n",
       "       -0.53953954, -0.53753754, -0.53553554, -0.53353353, -0.53153153,\n",
       "       -0.52952953, -0.52752753, -0.52552553, -0.52352352, -0.52152152,\n",
       "       -0.51951952, -0.51751752, -0.51551552, -0.51351351, -0.51151151,\n",
       "       -0.50950951, -0.50750751, -0.50550551, -0.5035035 , -0.5015015 ,\n",
       "       -0.4994995 , -0.4974975 , -0.4954955 , -0.49349349, -0.49149149,\n",
       "       -0.48948949, -0.48748749, -0.48548549, -0.48348348, -0.48148148,\n",
       "       -0.47947948, -0.47747748, -0.47547548, -0.47347347, -0.47147147,\n",
       "       -0.46946947, -0.46746747, -0.46546547, -0.46346346, -0.46146146,\n",
       "       -0.45945946, -0.45745746, -0.45545546, -0.45345345, -0.45145145,\n",
       "       -0.44944945, -0.44744745, -0.44544545, -0.44344344, -0.44144144,\n",
       "       -0.43943944, -0.43743744, -0.43543544, -0.43343343, -0.43143143,\n",
       "       -0.42942943, -0.42742743, -0.42542543, -0.42342342, -0.42142142,\n",
       "       -0.41941942, -0.41741742, -0.41541542, -0.41341341, -0.41141141,\n",
       "       -0.40940941, -0.40740741, -0.40540541, -0.4034034 , -0.4014014 ,\n",
       "       -0.3993994 , -0.3973974 , -0.3953954 , -0.39339339, -0.39139139,\n",
       "       -0.38938939, -0.38738739, -0.38538539, -0.38338338, -0.38138138,\n",
       "       -0.37937938, -0.37737738, -0.37537538, -0.37337337, -0.37137137,\n",
       "       -0.36936937, -0.36736737, -0.36536537, -0.36336336, -0.36136136,\n",
       "       -0.35935936, -0.35735736, -0.35535536, -0.35335335, -0.35135135,\n",
       "       -0.34934935, -0.34734735, -0.34534535, -0.34334334, -0.34134134,\n",
       "       -0.33933934, -0.33733734, -0.33533534, -0.33333333, -0.33133133,\n",
       "       -0.32932933, -0.32732733, -0.32532533, -0.32332332, -0.32132132,\n",
       "       -0.31931932, -0.31731732, -0.31531532, -0.31331331, -0.31131131,\n",
       "       -0.30930931, -0.30730731, -0.30530531, -0.3033033 , -0.3013013 ,\n",
       "       -0.2992993 , -0.2972973 , -0.2952953 , -0.29329329, -0.29129129,\n",
       "       -0.28928929, -0.28728729, -0.28528529, -0.28328328, -0.28128128,\n",
       "       -0.27927928, -0.27727728, -0.27527528, -0.27327327, -0.27127127,\n",
       "       -0.26926927, -0.26726727, -0.26526527, -0.26326326, -0.26126126,\n",
       "       -0.25925926, -0.25725726, -0.25525526, -0.25325325, -0.25125125,\n",
       "       -0.24924925, -0.24724725, -0.24524525, -0.24324324, -0.24124124,\n",
       "       -0.23923924, -0.23723724, -0.23523524, -0.23323323, -0.23123123,\n",
       "       -0.22922923, -0.22722723, -0.22522523, -0.22322322, -0.22122122,\n",
       "       -0.21921922, -0.21721722, -0.21521522, -0.21321321, -0.21121121,\n",
       "       -0.20920921, -0.20720721, -0.20520521, -0.2032032 , -0.2012012 ,\n",
       "       -0.1991992 , -0.1971972 , -0.1951952 , -0.19319319, -0.19119119,\n",
       "       -0.18918919, -0.18718719, -0.18518519, -0.18318318, -0.18118118,\n",
       "       -0.17917918, -0.17717718, -0.17517518, -0.17317317, -0.17117117,\n",
       "       -0.16916917, -0.16716717, -0.16516517, -0.16316316, -0.16116116,\n",
       "       -0.15915916, -0.15715716, -0.15515516, -0.15315315, -0.15115115,\n",
       "       -0.14914915, -0.14714715, -0.14514515, -0.14314314, -0.14114114,\n",
       "       -0.13913914, -0.13713714, -0.13513514, -0.13313313, -0.13113113,\n",
       "       -0.12912913, -0.12712713, -0.12512513, -0.12312312, -0.12112112,\n",
       "       -0.11911912, -0.11711712, -0.11511512, -0.11311311, -0.11111111,\n",
       "       -0.10910911, -0.10710711, -0.10510511, -0.1031031 , -0.1011011 ,\n",
       "       -0.0990991 , -0.0970971 , -0.0950951 , -0.09309309, -0.09109109,\n",
       "       -0.08908909, -0.08708709, -0.08508509, -0.08308308, -0.08108108,\n",
       "       -0.07907908, -0.07707708, -0.07507508, -0.07307307, -0.07107107,\n",
       "       -0.06906907, -0.06706707, -0.06506507, -0.06306306, -0.06106106,\n",
       "       -0.05905906, -0.05705706, -0.05505506, -0.05305305, -0.05105105,\n",
       "       -0.04904905, -0.04704705, -0.04504505, -0.04304304, -0.04104104,\n",
       "       -0.03903904, -0.03703704, -0.03503504, -0.03303303, -0.03103103,\n",
       "       -0.02902903, -0.02702703, -0.02502503, -0.02302302, -0.02102102,\n",
       "       -0.01901902, -0.01701702, -0.01501502, -0.01301301, -0.01101101,\n",
       "       -0.00900901, -0.00700701, -0.00500501, -0.003003  , -0.001001  ,\n",
       "        0.001001  ,  0.003003  ,  0.00500501,  0.00700701,  0.00900901,\n",
       "        0.01101101,  0.01301301,  0.01501502,  0.01701702,  0.01901902,\n",
       "        0.02102102,  0.02302302,  0.02502503,  0.02702703,  0.02902903,\n",
       "        0.03103103,  0.03303303,  0.03503504,  0.03703704,  0.03903904,\n",
       "        0.04104104,  0.04304304,  0.04504505,  0.04704705,  0.04904905,\n",
       "        0.05105105,  0.05305305,  0.05505506,  0.05705706,  0.05905906,\n",
       "        0.06106106,  0.06306306,  0.06506507,  0.06706707,  0.06906907,\n",
       "        0.07107107,  0.07307307,  0.07507508,  0.07707708,  0.07907908,\n",
       "        0.08108108,  0.08308308,  0.08508509,  0.08708709,  0.08908909,\n",
       "        0.09109109,  0.09309309,  0.0950951 ,  0.0970971 ,  0.0990991 ,\n",
       "        0.1011011 ,  0.1031031 ,  0.10510511,  0.10710711,  0.10910911,\n",
       "        0.11111111,  0.11311311,  0.11511512,  0.11711712,  0.11911912,\n",
       "        0.12112112,  0.12312312,  0.12512513,  0.12712713,  0.12912913,\n",
       "        0.13113113,  0.13313313,  0.13513514,  0.13713714,  0.13913914,\n",
       "        0.14114114,  0.14314314,  0.14514515,  0.14714715,  0.14914915,\n",
       "        0.15115115,  0.15315315,  0.15515516,  0.15715716,  0.15915916,\n",
       "        0.16116116,  0.16316316,  0.16516517,  0.16716717,  0.16916917,\n",
       "        0.17117117,  0.17317317,  0.17517518,  0.17717718,  0.17917918,\n",
       "        0.18118118,  0.18318318,  0.18518519,  0.18718719,  0.18918919,\n",
       "        0.19119119,  0.19319319,  0.1951952 ,  0.1971972 ,  0.1991992 ,\n",
       "        0.2012012 ,  0.2032032 ,  0.20520521,  0.20720721,  0.20920921,\n",
       "        0.21121121,  0.21321321,  0.21521522,  0.21721722,  0.21921922,\n",
       "        0.22122122,  0.22322322,  0.22522523,  0.22722723,  0.22922923,\n",
       "        0.23123123,  0.23323323,  0.23523524,  0.23723724,  0.23923924,\n",
       "        0.24124124,  0.24324324,  0.24524525,  0.24724725,  0.24924925,\n",
       "        0.25125125,  0.25325325,  0.25525526,  0.25725726,  0.25925926,\n",
       "        0.26126126,  0.26326326,  0.26526527,  0.26726727,  0.26926927,\n",
       "        0.27127127,  0.27327327,  0.27527528,  0.27727728,  0.27927928,\n",
       "        0.28128128,  0.28328328,  0.28528529,  0.28728729,  0.28928929,\n",
       "        0.29129129,  0.29329329,  0.2952953 ,  0.2972973 ,  0.2992993 ,\n",
       "        0.3013013 ,  0.3033033 ,  0.30530531,  0.30730731,  0.30930931,\n",
       "        0.31131131,  0.31331331,  0.31531532,  0.31731732,  0.31931932,\n",
       "        0.32132132,  0.32332332,  0.32532533,  0.32732733,  0.32932933,\n",
       "        0.33133133,  0.33333333,  0.33533534,  0.33733734,  0.33933934,\n",
       "        0.34134134,  0.34334334,  0.34534535,  0.34734735,  0.34934935,\n",
       "        0.35135135,  0.35335335,  0.35535536,  0.35735736,  0.35935936,\n",
       "        0.36136136,  0.36336336,  0.36536537,  0.36736737,  0.36936937,\n",
       "        0.37137137,  0.37337337,  0.37537538,  0.37737738,  0.37937938,\n",
       "        0.38138138,  0.38338338,  0.38538539,  0.38738739,  0.38938939,\n",
       "        0.39139139,  0.39339339,  0.3953954 ,  0.3973974 ,  0.3993994 ,\n",
       "        0.4014014 ,  0.4034034 ,  0.40540541,  0.40740741,  0.40940941,\n",
       "        0.41141141,  0.41341341,  0.41541542,  0.41741742,  0.41941942,\n",
       "        0.42142142,  0.42342342,  0.42542543,  0.42742743,  0.42942943,\n",
       "        0.43143143,  0.43343343,  0.43543544,  0.43743744,  0.43943944,\n",
       "        0.44144144,  0.44344344,  0.44544545,  0.44744745,  0.44944945,\n",
       "        0.45145145,  0.45345345,  0.45545546,  0.45745746,  0.45945946,\n",
       "        0.46146146,  0.46346346,  0.46546547,  0.46746747,  0.46946947,\n",
       "        0.47147147,  0.47347347,  0.47547548,  0.47747748,  0.47947948,\n",
       "        0.48148148,  0.48348348,  0.48548549,  0.48748749,  0.48948949,\n",
       "        0.49149149,  0.49349349,  0.4954955 ,  0.4974975 ,  0.4994995 ,\n",
       "        0.5015015 ,  0.5035035 ,  0.50550551,  0.50750751,  0.50950951,\n",
       "        0.51151151,  0.51351351,  0.51551552,  0.51751752,  0.51951952,\n",
       "        0.52152152,  0.52352352,  0.52552553,  0.52752753,  0.52952953,\n",
       "        0.53153153,  0.53353353,  0.53553554,  0.53753754,  0.53953954,\n",
       "        0.54154154,  0.54354354,  0.54554555,  0.54754755,  0.54954955,\n",
       "        0.55155155,  0.55355355,  0.55555556,  0.55755756,  0.55955956,\n",
       "        0.56156156,  0.56356356,  0.56556557,  0.56756757,  0.56956957,\n",
       "        0.57157157,  0.57357357,  0.57557558,  0.57757758,  0.57957958,\n",
       "        0.58158158,  0.58358358,  0.58558559,  0.58758759,  0.58958959,\n",
       "        0.59159159,  0.59359359,  0.5955956 ,  0.5975976 ,  0.5995996 ,\n",
       "        0.6016016 ,  0.6036036 ,  0.60560561,  0.60760761,  0.60960961,\n",
       "        0.61161161,  0.61361361,  0.61561562,  0.61761762,  0.61961962,\n",
       "        0.62162162,  0.62362362,  0.62562563,  0.62762763,  0.62962963,\n",
       "        0.63163163,  0.63363363,  0.63563564,  0.63763764,  0.63963964,\n",
       "        0.64164164,  0.64364364,  0.64564565,  0.64764765,  0.64964965,\n",
       "        0.65165165,  0.65365365,  0.65565566,  0.65765766,  0.65965966,\n",
       "        0.66166166,  0.66366366,  0.66566567,  0.66766767,  0.66966967,\n",
       "        0.67167167,  0.67367367,  0.67567568,  0.67767768,  0.67967968,\n",
       "        0.68168168,  0.68368368,  0.68568569,  0.68768769,  0.68968969,\n",
       "        0.69169169,  0.69369369,  0.6956957 ,  0.6976977 ,  0.6996997 ,\n",
       "        0.7017017 ,  0.7037037 ,  0.70570571,  0.70770771,  0.70970971,\n",
       "        0.71171171,  0.71371371,  0.71571572,  0.71771772,  0.71971972,\n",
       "        0.72172172,  0.72372372,  0.72572573,  0.72772773,  0.72972973,\n",
       "        0.73173173,  0.73373373,  0.73573574,  0.73773774,  0.73973974,\n",
       "        0.74174174,  0.74374374,  0.74574575,  0.74774775,  0.74974975,\n",
       "        0.75175175,  0.75375375,  0.75575576,  0.75775776,  0.75975976,\n",
       "        0.76176176,  0.76376376,  0.76576577,  0.76776777,  0.76976977,\n",
       "        0.77177177,  0.77377377,  0.77577578,  0.77777778,  0.77977978,\n",
       "        0.78178178,  0.78378378,  0.78578579,  0.78778779,  0.78978979,\n",
       "        0.79179179,  0.79379379,  0.7957958 ,  0.7977978 ,  0.7997998 ,\n",
       "        0.8018018 ,  0.8038038 ,  0.80580581,  0.80780781,  0.80980981,\n",
       "        0.81181181,  0.81381381,  0.81581582,  0.81781782,  0.81981982,\n",
       "        0.82182182,  0.82382382,  0.82582583,  0.82782783,  0.82982983,\n",
       "        0.83183183,  0.83383383,  0.83583584,  0.83783784,  0.83983984,\n",
       "        0.84184184,  0.84384384,  0.84584585,  0.84784785,  0.84984985,\n",
       "        0.85185185,  0.85385385,  0.85585586,  0.85785786,  0.85985986,\n",
       "        0.86186186,  0.86386386,  0.86586587,  0.86786787,  0.86986987,\n",
       "        0.87187187,  0.87387387,  0.87587588,  0.87787788,  0.87987988,\n",
       "        0.88188188,  0.88388388,  0.88588589,  0.88788789,  0.88988989,\n",
       "        0.89189189,  0.89389389,  0.8958959 ,  0.8978979 ,  0.8998999 ,\n",
       "        0.9019019 ,  0.9039039 ,  0.90590591,  0.90790791,  0.90990991,\n",
       "        0.91191191,  0.91391391,  0.91591592,  0.91791792,  0.91991992,\n",
       "        0.92192192,  0.92392392,  0.92592593,  0.92792793,  0.92992993,\n",
       "        0.93193193,  0.93393393,  0.93593594,  0.93793794,  0.93993994,\n",
       "        0.94194194,  0.94394394,  0.94594595,  0.94794795,  0.94994995,\n",
       "        0.95195195,  0.95395395,  0.95595596,  0.95795796,  0.95995996,\n",
       "        0.96196196,  0.96396396,  0.96596597,  0.96796797,  0.96996997,\n",
       "        0.97197197,  0.97397397,  0.97597598,  0.97797798,  0.97997998,\n",
       "        0.98198198,  0.98398398,  0.98598599,  0.98798799,  0.98998999,\n",
       "        0.99199199,  0.99399399,  0.995996  ,  0.997998  ,  1.        ])"
      ]
     },
     "execution_count": 66,
     "metadata": {},
     "output_type": "execute_result"
    }
   ],
   "source": [
    "# to plot:\n",
    "# this is better than range command because it increases from small to big:\n",
    "np.linspace(-1, 1, 1000)"
   ]
  },
  {
   "cell_type": "code",
   "execution_count": 67,
   "metadata": {},
   "outputs": [
    {
     "data": {
      "text/plain": [
       "[<matplotlib.lines.Line2D at 0x7fcf35e85be0>]"
      ]
     },
     "execution_count": 67,
     "metadata": {},
     "output_type": "execute_result"
    },
    {
     "data": {
      "image/png": "[encoded data removed]",
      "text/plain": [
       "<Figure size 432x288 with 1 Axes>"
      ]
     },
     "metadata": {
      "needs_background": "light"
     },
     "output_type": "display_data"
    }
   ],
   "source": [
    "# to plot pdf: this graph mean the prob of the number to be between 0 and 1 is always one.\n",
    "numrange = np.linspace(-0.1, 1.1, 100)\n",
    "plt.plot(numrange, cuni.pdf(numrange))"
   ]
  },
  {
   "cell_type": "code",
   "execution_count": 68,
   "metadata": {},
   "outputs": [
    {
     "data": {
      "text/plain": [
       "[<matplotlib.lines.Line2D at 0x7fcf357eb5e0>]"
      ]
     },
     "execution_count": 68,
     "metadata": {},
     "output_type": "execute_result"
    },
    {
     "data": {
      "image/png": "[encoded data removed]",
      "text/plain": [
       "<Figure size 432x288 with 1 Axes>"
      ]
     },
     "metadata": {
      "needs_background": "light"
     },
     "output_type": "display_data"
    }
   ],
   "source": [
    "# to plot cpf:\n",
    "plt.plot(numrange, cuni.cdf(numrange))"
   ]
  },
  {
   "cell_type": "code",
   "execution_count": 69,
   "metadata": {},
   "outputs": [
    {
     "data": {
      "text/plain": [
       "[<matplotlib.lines.Line2D at 0x7fcf35de6b20>]"
      ]
     },
     "execution_count": 69,
     "metadata": {},
     "output_type": "execute_result"
    },
    {
     "data": {
      "image/png": "[encoded data removed]",
      "text/plain": [
       "<Figure size 432x288 with 1 Axes>"
      ]
     },
     "metadata": {
      "needs_background": "light"
     },
     "output_type": "display_data"
    }
   ],
   "source": [
    "\n",
    "cuni=uniform(0, 10)\n",
    "numrange1 = np.linspace(-1, 11, 50) # 50 numbers between 0 and 10\n",
    "plt.plot(numrange1, cuni.pdf(numrange1))"
   ]
  },
  {
   "cell_type": "markdown",
   "metadata": {},
   "source": [
    "### normal distribution"
   ]
  },
  {
   "cell_type": "code",
   "execution_count": 70,
   "metadata": {},
   "outputs": [],
   "source": [
    "from scipy.stats import norm"
   ]
  },
  {
   "cell_type": "code",
   "execution_count": 71,
   "metadata": {},
   "outputs": [],
   "source": [
    "normal = norm(0, 1) # 0 is mean and 1 is std deviation (this is standars normal distribution)"
   ]
  },
  {
   "cell_type": "code",
   "execution_count": 74,
   "metadata": {},
   "outputs": [
    {
     "data": {
      "text/plain": [
       "[<matplotlib.lines.Line2D at 0x7fcf35ecbe50>]"
      ]
     },
     "execution_count": 74,
     "metadata": {},
     "output_type": "execute_result"
    },
    {
     "data": {
      "image/png": "[encoded data removed]",
      "text/plain": [
       "<Figure size 432x288 with 1 Axes>"
      ]
     },
     "metadata": {
      "needs_background": "light"
     },
     "output_type": "display_data"
    }
   ],
   "source": [
    "numrange2 = np.linspace(-5, 5, 50) # 50 numbers between -5 and 5\n",
    "plt.plot(numrange2, norm.pdf(numrange2))"
   ]
  },
  {
   "cell_type": "code",
   "execution_count": 75,
   "metadata": {},
   "outputs": [
    {
     "data": {
      "text/plain": [
       "[<matplotlib.lines.Line2D at 0x7fcf35c49d90>]"
      ]
     },
     "execution_count": 75,
     "metadata": {},
     "output_type": "execute_result"
    },
    {
     "data": {
      "image/png": "[encoded data removed]",
      "text/plain": [
       "<Figure size 432x288 with 1 Axes>"
      ]
     },
     "metadata": {
      "needs_background": "light"
     },
     "output_type": "display_data"
    }
   ],
   "source": [
    "plt.plot(numrange2, norm.cdf(numrange2)) #cdf ranges between 0 and 1, befor and after these values, it is infinitive."
   ]
  },
  {
   "cell_type": "code",
   "execution_count": null,
   "metadata": {},
   "outputs": [],
   "source": []
  }
 ],
 "metadata": {
  "kernelspec": {
   "display_name": "Python 3",
   "language": "python",
   "name": "python3"
  },
  "language_info": {
   "codemirror_mode": {
    "name": "ipython",
    "version": 3
   },
   "file_extension": ".py",
   "mimetype": "text/x-python",
   "name": "python",
   "nbconvert_exporter": "python",
   "pygments_lexer": "ipython3",
   "version": "3.8.3"
  }
 },
 "nbformat": 4,
 "nbformat_minor": 4
}
