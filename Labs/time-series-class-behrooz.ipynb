{
 "cells": [
  {
   "cell_type": "code",
   "execution_count": 1,
   "metadata": {},
   "outputs": [],
   "source": [
    "import numpy as np\n",
    "import pandas as pd\n",
    "import statsmodels.api as sm\n",
    "import matplotlib.pyplot as plt"
   ]
  },
  {
   "cell_type": "code",
   "execution_count": 2,
   "metadata": {},
   "outputs": [
    {
     "data": {
      "text/html": [
       "<div>\n",
       "<style scoped>\n",
       "    .dataframe tbody tr th:only-of-type {\n",
       "        vertical-align: middle;\n",
       "    }\n",
       "\n",
       "    .dataframe tbody tr th {\n",
       "        vertical-align: top;\n",
       "    }\n",
       "\n",
       "    .dataframe thead th {\n",
       "        text-align: right;\n",
       "    }\n",
       "</style>\n",
       "<table border=\"1\" class=\"dataframe\">\n",
       "  <thead>\n",
       "    <tr style=\"text-align: right;\">\n",
       "      <th></th>\n",
       "      <th>date</th>\n",
       "      <th>Temperature</th>\n",
       "      <th>Humidity</th>\n",
       "      <th>Light</th>\n",
       "      <th>CO2</th>\n",
       "      <th>HumidityRatio</th>\n",
       "      <th>Occupancy</th>\n",
       "    </tr>\n",
       "  </thead>\n",
       "  <tbody>\n",
       "    <tr>\n",
       "      <th>0</th>\n",
       "      <td>2/2/2015 14:00</td>\n",
       "      <td>23.7000</td>\n",
       "      <td>26.272</td>\n",
       "      <td>585.200000</td>\n",
       "      <td>749.200000</td>\n",
       "      <td>0.004764</td>\n",
       "      <td>1</td>\n",
       "    </tr>\n",
       "    <tr>\n",
       "      <th>1</th>\n",
       "      <td>2/2/2015 15:00</td>\n",
       "      <td>23.7180</td>\n",
       "      <td>26.290</td>\n",
       "      <td>578.400000</td>\n",
       "      <td>760.400000</td>\n",
       "      <td>0.004773</td>\n",
       "      <td>1</td>\n",
       "    </tr>\n",
       "    <tr>\n",
       "      <th>2</th>\n",
       "      <td>2/2/2015 16:00</td>\n",
       "      <td>23.7300</td>\n",
       "      <td>26.230</td>\n",
       "      <td>572.666667</td>\n",
       "      <td>769.666667</td>\n",
       "      <td>0.004765</td>\n",
       "      <td>1</td>\n",
       "    </tr>\n",
       "    <tr>\n",
       "      <th>3</th>\n",
       "      <td>2/2/2015 17:00</td>\n",
       "      <td>23.7225</td>\n",
       "      <td>26.125</td>\n",
       "      <td>493.750000</td>\n",
       "      <td>774.750000</td>\n",
       "      <td>0.004744</td>\n",
       "      <td>1</td>\n",
       "    </tr>\n",
       "    <tr>\n",
       "      <th>4</th>\n",
       "      <td>2/2/2015 18:00</td>\n",
       "      <td>23.7540</td>\n",
       "      <td>26.200</td>\n",
       "      <td>488.600000</td>\n",
       "      <td>779.000000</td>\n",
       "      <td>0.004767</td>\n",
       "      <td>1</td>\n",
       "    </tr>\n",
       "  </tbody>\n",
       "</table>\n",
       "</div>"
      ],
      "text/plain": [
       "             date  Temperature  Humidity       Light         CO2  \\\n",
       "0  2/2/2015 14:00      23.7000    26.272  585.200000  749.200000   \n",
       "1  2/2/2015 15:00      23.7180    26.290  578.400000  760.400000   \n",
       "2  2/2/2015 16:00      23.7300    26.230  572.666667  769.666667   \n",
       "3  2/2/2015 17:00      23.7225    26.125  493.750000  774.750000   \n",
       "4  2/2/2015 18:00      23.7540    26.200  488.600000  779.000000   \n",
       "\n",
       "   HumidityRatio  Occupancy  \n",
       "0       0.004764          1  \n",
       "1       0.004773          1  \n",
       "2       0.004765          1  \n",
       "3       0.004744          1  \n",
       "4       0.004767          1  "
      ]
     },
     "execution_count": 2,
     "metadata": {},
     "output_type": "execute_result"
    }
   ],
   "source": [
    "df = pd.read_csv('https://s3-eu-west-1.amazonaws.com/ih-materials/uploads/data-static/data/module-2/occupancy.csv')\n",
    "df.head()"
   ]
  },
  {
   "cell_type": "code",
   "execution_count": 3,
   "metadata": {},
   "outputs": [
    {
     "data": {
      "text/plain": [
       "0        2/2/2015 14:00\n",
       "1        2/2/2015 15:00\n",
       "2        2/2/2015 16:00\n",
       "3        2/2/2015 17:00\n",
       "4        2/2/2015 18:00\n",
       "             ...       \n",
       "2659     5/24/2015 9:00\n",
       "2660    5/24/2015 10:00\n",
       "2661    5/24/2015 11:00\n",
       "2662    5/24/2015 12:00\n",
       "2663    5/24/2015 13:00\n",
       "Name: date, Length: 2664, dtype: object"
      ]
     },
     "execution_count": 3,
     "metadata": {},
     "output_type": "execute_result"
    }
   ],
   "source": [
    "df['date']"
   ]
  },
  {
   "cell_type": "markdown",
   "metadata": {},
   "source": [
    "### Declaring the date variable as a datetime object"
   ]
  },
  {
   "cell_type": "code",
   "execution_count": 4,
   "metadata": {},
   "outputs": [
    {
     "data": {
      "text/plain": [
       "0      2015-02-02 14:00:00\n",
       "1      2015-02-02 15:00:00\n",
       "2      2015-02-02 16:00:00\n",
       "3      2015-02-02 17:00:00\n",
       "4      2015-02-02 18:00:00\n",
       "               ...        \n",
       "2659   2015-05-24 09:00:00\n",
       "2660   2015-05-24 10:00:00\n",
       "2661   2015-05-24 11:00:00\n",
       "2662   2015-05-24 12:00:00\n",
       "2663   2015-05-24 13:00:00\n",
       "Name: date, Length: 2664, dtype: datetime64[ns]"
      ]
     },
     "execution_count": 4,
     "metadata": {},
     "output_type": "execute_result"
    }
   ],
   "source": [
    "df['date'] = pd.to_datetime(df['date'])\n",
    "df['date']"
   ]
  },
  {
   "cell_type": "code",
   "execution_count": 5,
   "metadata": {},
   "outputs": [
    {
     "name": "stdout",
     "output_type": "stream",
     "text": [
      "2015-07-04 00:00:00\n",
      "2001-11-09 00:00:00\n",
      "2019-02-02 15:32:00\n"
     ]
    }
   ],
   "source": [
    "print(pd.to_datetime(\"4th of July, 2015\"))\n",
    "print(pd.to_datetime(\"Nov 9 2001\"))\n",
    "print(pd.to_datetime(\"February 2nd 2019 15:32\"))"
   ]
  },
  {
   "cell_type": "markdown",
   "metadata": {},
   "source": [
    "Formatting options for datetime objects: https://strftime.org/"
   ]
  },
  {
   "cell_type": "code",
   "execution_count": 6,
   "metadata": {},
   "outputs": [],
   "source": [
    "# use the website above to get more coll stuff about date."
   ]
  },
  {
   "cell_type": "code",
   "execution_count": 7,
   "metadata": {},
   "outputs": [
    {
     "data": {
      "text/plain": [
       "'February'"
      ]
     },
     "execution_count": 7,
     "metadata": {},
     "output_type": "execute_result"
    }
   ],
   "source": [
    "pd.to_datetime(\"February 2nd 2019 15:32\").strftime('%B')\n"
   ]
  },
  {
   "cell_type": "code",
   "execution_count": 8,
   "metadata": {},
   "outputs": [
    {
     "data": {
      "text/plain": [
       "'Sat Feb  2 15:32:00 2019'"
      ]
     },
     "execution_count": 8,
     "metadata": {},
     "output_type": "execute_result"
    }
   ],
   "source": [
    "pd.to_datetime(\"February 2nd 2019 15:32\").strftime('%c')"
   ]
  },
  {
   "cell_type": "markdown",
   "metadata": {},
   "source": [
    "### Setting a time index"
   ]
  },
  {
   "cell_type": "code",
   "execution_count": 9,
   "metadata": {},
   "outputs": [
    {
     "data": {
      "text/plain": [
       "[<matplotlib.lines.Line2D at 0x7f847c9473a0>]"
      ]
     },
     "execution_count": 9,
     "metadata": {},
     "output_type": "execute_result"
    },
    {
     "data": {
      "image/png": "[encoded data removed]",
      "text/plain": [
       "<Figure size 432x288 with 1 Axes>"
      ]
     },
     "metadata": {
      "needs_background": "light"
     },
     "output_type": "display_data"
    }
   ],
   "source": [
    "# Without the date index\n",
    "# resizing all of the plots: \n",
    "# plt.rcParams['figure.figsize'] = (12, 6)\n",
    "plt.plot(df['Humidity'])"
   ]
  },
  {
   "cell_type": "code",
   "execution_count": 10,
   "metadata": {},
   "outputs": [
    {
     "data": {
      "text/plain": [
       "RangeIndex(start=0, stop=2664, step=1)"
      ]
     },
     "execution_count": 10,
     "metadata": {},
     "output_type": "execute_result"
    }
   ],
   "source": [
    "df.index"
   ]
  },
  {
   "cell_type": "code",
   "execution_count": 11,
   "metadata": {
    "scrolled": true
   },
   "outputs": [
    {
     "data": {
      "text/plain": [
       "DatetimeIndex(['2015-02-02 14:00:00', '2015-02-02 15:00:00',\n",
       "               '2015-02-02 16:00:00', '2015-02-02 17:00:00',\n",
       "               '2015-02-02 18:00:00', '2015-02-02 19:00:00',\n",
       "               '2015-02-02 20:00:00', '2015-02-02 21:00:00',\n",
       "               '2015-02-02 22:00:00', '2015-02-02 23:00:00',\n",
       "               ...\n",
       "               '2015-05-24 04:00:00', '2015-05-24 05:00:00',\n",
       "               '2015-05-24 06:00:00', '2015-05-24 07:00:00',\n",
       "               '2015-05-24 08:00:00', '2015-05-24 09:00:00',\n",
       "               '2015-05-24 10:00:00', '2015-05-24 11:00:00',\n",
       "               '2015-05-24 12:00:00', '2015-05-24 13:00:00'],\n",
       "              dtype='datetime64[ns]', name='date', length=2664, freq='H')"
      ]
     },
     "execution_count": 11,
     "metadata": {},
     "output_type": "execute_result"
    }
   ],
   "source": [
    "# this is to make 'date' to be the index of the data frame:\n",
    "df.index = pd.DatetimeIndex(df['date'], freq='H') # frequncy is hourly. \n",
    "df.index"
   ]
  },
  {
   "cell_type": "code",
   "execution_count": 12,
   "metadata": {},
   "outputs": [],
   "source": [
    "#df.head()"
   ]
  },
  {
   "cell_type": "code",
   "execution_count": 13,
   "metadata": {},
   "outputs": [
    {
     "data": {
      "image/png": "[encoded data removed]",
      "text/plain": [
       "<Figure size 432x288 with 1 Axes>"
      ]
     },
     "metadata": {
      "needs_background": "light"
     },
     "output_type": "display_data"
    }
   ],
   "source": [
    "plt.plot(df['Humidity'])\n",
    "plt.rcParams['figure.figsize'] = (12, 6)\n",
    "# this command makes all the figures in this kernel the size that we want. \n"
   ]
  },
  {
   "cell_type": "markdown",
   "metadata": {},
   "source": [
    "### Changing the frequency of the data (Resampling)"
   ]
  },
  {
   "cell_type": "code",
   "execution_count": 14,
   "metadata": {},
   "outputs": [
    {
     "data": {
      "text/plain": [
       "date\n",
       "2015-02-08    27.529601\n",
       "2015-02-15    24.591775\n",
       "2015-02-22    23.049012\n",
       "2015-03-01    22.288259\n",
       "2015-03-08    22.308055\n",
       "2015-03-15    22.601635\n",
       "2015-03-22    24.315943\n",
       "2015-03-29    27.812716\n",
       "2015-04-05    26.966913\n",
       "2015-04-12    30.874330\n",
       "2015-04-19    28.281236\n",
       "2015-04-26    25.749650\n",
       "2015-05-03    24.996242\n",
       "2015-05-10    24.668289\n",
       "2015-05-17    24.174230\n",
       "2015-05-24    25.638685\n",
       "Freq: W-SUN, Name: Humidity, dtype: float64"
      ]
     },
     "execution_count": 14,
     "metadata": {},
     "output_type": "execute_result"
    }
   ],
   "source": [
    "df['Humidity'].resample('W').mean()\n",
    "# this is to get the mean of weekly humidity"
   ]
  },
  {
   "cell_type": "code",
   "execution_count": 15,
   "metadata": {},
   "outputs": [],
   "source": [
    "#help(df.resample)"
   ]
  },
  {
   "cell_type": "markdown",
   "metadata": {},
   "source": [
    "Options for resampling frequency:\n",
    "    \n",
    "- B       business day frequency\n",
    "- C       custom business day frequency (experimental)\n",
    "- D       calendar day frequency\n",
    "- W       weekly frequency\n",
    "- M       month end frequency\n",
    "- SM      semi-month end frequency (15th and end of month)\n",
    "- Q       quarter end frequency\n",
    "- A       year end frequency\n",
    "- H       hourly frequency\n",
    "- T       minutely frequency\n",
    "- S       secondly frequency\n",
    "- L       milliseonds\n",
    "- U       microseconds\n",
    "- N       nanoseconds\n",
    "- and more!"
   ]
  },
  {
   "cell_type": "code",
   "execution_count": 16,
   "metadata": {},
   "outputs": [
    {
     "data": {
      "text/plain": [
       "date\n",
       "2015-02-28    24.374582\n",
       "2015-03-31    24.325819\n",
       "2015-04-30    27.677441\n",
       "2015-05-31    24.842351\n",
       "Freq: M, Name: Humidity, dtype: float64"
      ]
     },
     "execution_count": 16,
     "metadata": {},
     "output_type": "execute_result"
    }
   ],
   "source": [
    "df['Humidity'].resample('M').mean()"
   ]
  },
  {
   "cell_type": "code",
   "execution_count": 17,
   "metadata": {},
   "outputs": [],
   "source": [
    "# lets check if we can run resample code when there is NaN values. "
   ]
  },
  {
   "cell_type": "markdown",
   "metadata": {},
   "source": [
    "## First Differencing your data"
   ]
  },
  {
   "cell_type": "code",
   "execution_count": 40,
   "metadata": {
    "scrolled": true
   },
   "outputs": [
    {
     "data": {
      "text/html": [
       "<div>\n",
       "<style scoped>\n",
       "    .dataframe tbody tr th:only-of-type {\n",
       "        vertical-align: middle;\n",
       "    }\n",
       "\n",
       "    .dataframe tbody tr th {\n",
       "        vertical-align: top;\n",
       "    }\n",
       "\n",
       "    .dataframe thead th {\n",
       "        text-align: right;\n",
       "    }\n",
       "</style>\n",
       "<table border=\"1\" class=\"dataframe\">\n",
       "  <thead>\n",
       "    <tr style=\"text-align: right;\">\n",
       "      <th></th>\n",
       "      <th>date</th>\n",
       "      <th>Temperature</th>\n",
       "      <th>Humidity</th>\n",
       "      <th>Light</th>\n",
       "      <th>CO2</th>\n",
       "      <th>HumidityRatio</th>\n",
       "      <th>Occupancy</th>\n",
       "      <th>Humidity_diff</th>\n",
       "    </tr>\n",
       "    <tr>\n",
       "      <th>date</th>\n",
       "      <th></th>\n",
       "      <th></th>\n",
       "      <th></th>\n",
       "      <th></th>\n",
       "      <th></th>\n",
       "      <th></th>\n",
       "      <th></th>\n",
       "      <th></th>\n",
       "    </tr>\n",
       "  </thead>\n",
       "  <tbody>\n",
       "    <tr>\n",
       "      <th>2015-02-02 15:00:00</th>\n",
       "      <td>2015-02-02 15:00:00</td>\n",
       "      <td>23.7180</td>\n",
       "      <td>26.290</td>\n",
       "      <td>578.400000</td>\n",
       "      <td>760.400000</td>\n",
       "      <td>0.004773</td>\n",
       "      <td>1</td>\n",
       "      <td>0.018</td>\n",
       "    </tr>\n",
       "    <tr>\n",
       "      <th>2015-02-02 16:00:00</th>\n",
       "      <td>2015-02-02 16:00:00</td>\n",
       "      <td>23.7300</td>\n",
       "      <td>26.230</td>\n",
       "      <td>572.666667</td>\n",
       "      <td>769.666667</td>\n",
       "      <td>0.004765</td>\n",
       "      <td>1</td>\n",
       "      <td>-0.060</td>\n",
       "    </tr>\n",
       "    <tr>\n",
       "      <th>2015-02-02 17:00:00</th>\n",
       "      <td>2015-02-02 17:00:00</td>\n",
       "      <td>23.7225</td>\n",
       "      <td>26.125</td>\n",
       "      <td>493.750000</td>\n",
       "      <td>774.750000</td>\n",
       "      <td>0.004744</td>\n",
       "      <td>1</td>\n",
       "      <td>-0.105</td>\n",
       "    </tr>\n",
       "    <tr>\n",
       "      <th>2015-02-02 18:00:00</th>\n",
       "      <td>2015-02-02 18:00:00</td>\n",
       "      <td>23.7540</td>\n",
       "      <td>26.200</td>\n",
       "      <td>488.600000</td>\n",
       "      <td>779.000000</td>\n",
       "      <td>0.004767</td>\n",
       "      <td>1</td>\n",
       "      <td>0.075</td>\n",
       "    </tr>\n",
       "    <tr>\n",
       "      <th>2015-02-02 19:00:00</th>\n",
       "      <td>2015-02-02 19:00:00</td>\n",
       "      <td>23.7600</td>\n",
       "      <td>26.260</td>\n",
       "      <td>568.666667</td>\n",
       "      <td>790.000000</td>\n",
       "      <td>0.004779</td>\n",
       "      <td>1</td>\n",
       "      <td>0.060</td>\n",
       "    </tr>\n",
       "  </tbody>\n",
       "</table>\n",
       "</div>"
      ],
      "text/plain": [
       "                                   date  Temperature  Humidity       Light  \\\n",
       "date                                                                         \n",
       "2015-02-02 15:00:00 2015-02-02 15:00:00      23.7180    26.290  578.400000   \n",
       "2015-02-02 16:00:00 2015-02-02 16:00:00      23.7300    26.230  572.666667   \n",
       "2015-02-02 17:00:00 2015-02-02 17:00:00      23.7225    26.125  493.750000   \n",
       "2015-02-02 18:00:00 2015-02-02 18:00:00      23.7540    26.200  488.600000   \n",
       "2015-02-02 19:00:00 2015-02-02 19:00:00      23.7600    26.260  568.666667   \n",
       "\n",
       "                            CO2  HumidityRatio  Occupancy  Humidity_diff  \n",
       "date                                                                      \n",
       "2015-02-02 15:00:00  760.400000       0.004773          1          0.018  \n",
       "2015-02-02 16:00:00  769.666667       0.004765          1         -0.060  \n",
       "2015-02-02 17:00:00  774.750000       0.004744          1         -0.105  \n",
       "2015-02-02 18:00:00  779.000000       0.004767          1          0.075  \n",
       "2015-02-02 19:00:00  790.000000       0.004779          1          0.060  "
      ]
     },
     "execution_count": 40,
     "metadata": {},
     "output_type": "execute_result"
    }
   ],
   "source": [
    "df['Humidity_diff'] = df['Humidity'].diff()\n",
    "df.dropna(inplace = True) # this is to drop the first row. \n",
    "df.head()"
   ]
  },
  {
   "cell_type": "code",
   "execution_count": 41,
   "metadata": {
    "scrolled": true
   },
   "outputs": [
    {
     "data": {
      "text/plain": [
       "date\n",
       "2015-02-28   -0.006291\n",
       "2015-03-31    0.004785\n",
       "2015-04-30   -0.001333\n",
       "2015-05-31    0.001399\n",
       "Freq: M, Name: Humidity_diff, dtype: float64"
      ]
     },
     "execution_count": 41,
     "metadata": {},
     "output_type": "execute_result"
    }
   ],
   "source": [
    "df['Humidity_diff'].resample('M').mean()"
   ]
  },
  {
   "cell_type": "code",
   "execution_count": null,
   "metadata": {},
   "outputs": [],
   "source": []
  },
  {
   "cell_type": "markdown",
   "metadata": {},
   "source": [
    "## Decomposing Time Series data"
   ]
  },
  {
   "cell_type": "code",
   "execution_count": 33,
   "metadata": {},
   "outputs": [],
   "source": [
    "#help(sm.tsa.seasonal_decompose)"
   ]
  },
  {
   "cell_type": "code",
   "execution_count": 27,
   "metadata": {},
   "outputs": [
    {
     "data": {
      "image/png": "[encoded data removed]",
      "text/plain": [
       "<Figure size 864x432 with 4 Axes>"
      ]
     },
     "metadata": {
      "needs_background": "light"
     },
     "output_type": "display_data"
    }
   ],
   "source": [
    "# decomposition: shows the TS have components like (trend, seasonal,\n",
    "# or residual)\n",
    "dec = sm.tsa.seasonal_decompose(df['Humidity'])\n",
    "\n",
    "dec.plot()\n",
    "plt.show()"
   ]
  },
  {
   "cell_type": "code",
   "execution_count": 29,
   "metadata": {},
   "outputs": [
    {
     "data": {
      "image/png": "[encoded data removed]",
      "text/plain": [
       "<Figure size 864x432 with 4 Axes>"
      ]
     },
     "metadata": {
      "needs_background": "light"
     },
     "output_type": "display_data"
    }
   ],
   "source": [
    "dec = sm.tsa.seasonal_decompose(df['Humidity'], model='multiplicative')\n",
    "\n",
    "dec.plot()\n",
    "plt.show()"
   ]
  },
  {
   "cell_type": "markdown",
   "metadata": {},
   "source": [
    "## Checking for autocorrelation"
   ]
  },
  {
   "cell_type": "code",
   "execution_count": 30,
   "metadata": {},
   "outputs": [
    {
     "data": {
      "text/plain": [
       "0.9997369988034106"
      ]
     },
     "execution_count": 30,
     "metadata": {},
     "output_type": "execute_result"
    }
   ],
   "source": [
    "# we talk aboout serial correlation, it is the correlation of only one \n",
    "# variable at two different time (t, t-1)\n",
    "#most time series have some sort of autocorrelation.\n",
    "# if it is warm at 3pm, it was also warm at 2pm. \n",
    "# autocorrelation is positive. \n",
    "# few time series show negative autocorr. (dr visiting patients)\n",
    "df['Humidity'].autocorr()"
   ]
  },
  {
   "cell_type": "code",
   "execution_count": 19,
   "metadata": {},
   "outputs": [
    {
     "data": {
      "text/plain": [
       "0.9991372065671117"
      ]
     },
     "execution_count": 19,
     "metadata": {},
     "output_type": "execute_result"
    }
   ],
   "source": [
    "# by default the lag is 1, we can specify the lag\n",
    "df['Humidity'].autocorr(lag=3)"
   ]
  },
  {
   "cell_type": "code",
   "execution_count": null,
   "metadata": {},
   "outputs": [],
   "source": []
  },
  {
   "cell_type": "code",
   "execution_count": 20,
   "metadata": {},
   "outputs": [
    {
     "data": {
      "text/plain": [
       "<matplotlib.axes._subplots.AxesSubplot at 0x7f847d0982e0>"
      ]
     },
     "execution_count": 20,
     "metadata": {},
     "output_type": "execute_result"
    },
    {
     "data": {
      "image/png": "[encoded data removed]",
      "text/plain": [
       "<Figure size 864x432 with 1 Axes>"
      ]
     },
     "metadata": {
      "needs_background": "light"
     },
     "output_type": "display_data"
    }
   ],
   "source": [
    "from pandas.plotting import lag_plot\n",
    "lag_plot(df['Humidity'])"
   ]
  },
  {
   "cell_type": "code",
   "execution_count": 21,
   "metadata": {},
   "outputs": [
    {
     "data": {
      "image/png": "[encoded data removed]",
      "text/plain": [
       "<Figure size 864x432 with 1 Axes>"
      ]
     },
     "metadata": {
      "needs_background": "light"
     },
     "output_type": "display_data"
    }
   ],
   "source": [
    "# Autocorrelation Plot\n",
    "\n",
    "plt.acorr(df['Humidity'], maxlags = 5)\n",
    "plt.title(\"Autocorrelation Plot for Humidity\")\n",
    "\n",
    "  \n",
    "plt.show()  \n",
    "# this figure shows autocorr at each lag\n",
    "# this is more or less heatmap of autocorr.\n",
    "# when autocoor is high, we can make a good forecast."
   ]
  },
  {
   "cell_type": "markdown",
   "metadata": {},
   "source": [
    "## Applying Time Series models"
   ]
  },
  {
   "cell_type": "code",
   "execution_count": 22,
   "metadata": {},
   "outputs": [
    {
     "data": {
      "text/html": [
       "<table class=\"simpletable\">\n",
       "<caption>AutoReg Model Results</caption>\n",
       "<tr>\n",
       "  <th>Dep. Variable:</th>     <td>Humidity</td>     <th>  No. Observations:  </th>   <td>2664</td>  \n",
       "</tr>\n",
       "<tr>\n",
       "  <th>Model:</th>            <td>AutoReg(2)</td>    <th>  Log Likelihood     </th> <td>3898.822</td>\n",
       "</tr>\n",
       "<tr>\n",
       "  <th>Method:</th>         <td>Conditional MLE</td> <th>  S.D. of innovations</th>   <td>0.056</td> \n",
       "</tr>\n",
       "<tr>\n",
       "  <th>Date:</th>          <td>Thu, 26 Nov 2020</td> <th>  AIC                </th>  <td>-5.764</td> \n",
       "</tr>\n",
       "<tr>\n",
       "  <th>Time:</th>              <td>18:52:40</td>     <th>  BIC                </th>  <td>-5.755</td> \n",
       "</tr>\n",
       "<tr>\n",
       "  <th>Sample:</th>           <td>02-02-2015</td>    <th>  HQIC               </th>  <td>-5.761</td> \n",
       "</tr>\n",
       "<tr>\n",
       "  <th></th>                 <td>- 05-24-2015</td>   <th>                     </th>     <td> </td>   \n",
       "</tr>\n",
       "</table>\n",
       "<table class=\"simpletable\">\n",
       "<tr>\n",
       "       <td></td>          <th>coef</th>     <th>std err</th>      <th>z</th>      <th>P>|z|</th>  <th>[0.025</th>    <th>0.975]</th>  \n",
       "</tr>\n",
       "<tr>\n",
       "  <th>intercept</th>   <td>    0.0071</td> <td>    0.011</td> <td>    0.629</td> <td> 0.529</td> <td>   -0.015</td> <td>    0.029</td>\n",
       "</tr>\n",
       "<tr>\n",
       "  <th>Humidity.L1</th> <td>    1.0097</td> <td>    0.019</td> <td>   52.099</td> <td> 0.000</td> <td>    0.972</td> <td>    1.048</td>\n",
       "</tr>\n",
       "<tr>\n",
       "  <th>Humidity.L2</th> <td>   -0.0100</td> <td>    0.019</td> <td>   -0.517</td> <td> 0.605</td> <td>   -0.048</td> <td>    0.028</td>\n",
       "</tr>\n",
       "</table>\n",
       "<table class=\"simpletable\">\n",
       "<caption>Roots</caption>\n",
       "<tr>\n",
       "    <td></td>   <th>            Real</th>  <th>         Imaginary</th> <th>         Modulus</th>  <th>        Frequency</th>\n",
       "</tr>\n",
       "<tr>\n",
       "  <th>AR.1</th> <td>           1.0003</td> <td>          +0.0000j</td> <td>           1.0003</td> <td>           0.0000</td>\n",
       "</tr>\n",
       "<tr>\n",
       "  <th>AR.2</th> <td>          99.8636</td> <td>          +0.0000j</td> <td>          99.8636</td> <td>           0.0000</td>\n",
       "</tr>\n",
       "</table>"
      ],
      "text/plain": [
       "<class 'statsmodels.iolib.summary.Summary'>\n",
       "\"\"\"\n",
       "                            AutoReg Model Results                             \n",
       "==============================================================================\n",
       "Dep. Variable:               Humidity   No. Observations:                 2664\n",
       "Model:                     AutoReg(2)   Log Likelihood                3898.822\n",
       "Method:               Conditional MLE   S.D. of innovations              0.056\n",
       "Date:                Thu, 26 Nov 2020   AIC                             -5.764\n",
       "Time:                        18:52:40   BIC                             -5.755\n",
       "Sample:                    02-02-2015   HQIC                            -5.761\n",
       "                         - 05-24-2015                                         \n",
       "===============================================================================\n",
       "                  coef    std err          z      P>|z|      [0.025      0.975]\n",
       "-------------------------------------------------------------------------------\n",
       "intercept       0.0071      0.011      0.629      0.529      -0.015       0.029\n",
       "Humidity.L1     1.0097      0.019     52.099      0.000       0.972       1.048\n",
       "Humidity.L2    -0.0100      0.019     -0.517      0.605      -0.048       0.028\n",
       "                                    Roots                                    \n",
       "=============================================================================\n",
       "                  Real          Imaginary           Modulus         Frequency\n",
       "-----------------------------------------------------------------------------\n",
       "AR.1            1.0003           +0.0000j            1.0003            0.0000\n",
       "AR.2           99.8636           +0.0000j           99.8636            0.0000\n",
       "-----------------------------------------------------------------------------\n",
       "\"\"\""
      ]
     },
     "execution_count": 22,
     "metadata": {},
     "output_type": "execute_result"
    }
   ],
   "source": [
    "# auto regression: \n",
    "\n",
    "from statsmodels.tsa.ar_model import AutoReg\n",
    "\n",
    "model = AutoReg(df['Humidity'], lags = 2).fit()\n",
    "model.summary()"
   ]
  },
  {
   "cell_type": "code",
   "execution_count": 23,
   "metadata": {},
   "outputs": [],
   "source": [
    "#help(AutoReg)"
   ]
  },
  {
   "cell_type": "markdown",
   "metadata": {},
   "source": [
    "## Making Predictions"
   ]
  },
  {
   "cell_type": "markdown",
   "metadata": {},
   "source": [
    "In order to assess the accuracy of our predictions, we will remove the last ten observations from the variable which we are using to train the model. Afterwards, we will then predict those ten observations, and see how close we got with our model to what happened in reality!"
   ]
  },
  {
   "cell_type": "code",
   "execution_count": 24,
   "metadata": {},
   "outputs": [
    {
     "data": {
      "text/html": [
       "<table class=\"simpletable\">\n",
       "<caption>AutoReg Model Results</caption>\n",
       "<tr>\n",
       "  <th>Dep. Variable:</th>     <td>Humidity</td>     <th>  No. Observations:  </th>   <td>2664</td>  \n",
       "</tr>\n",
       "<tr>\n",
       "  <th>Model:</th>            <td>AutoReg(1)</td>    <th>  Log Likelihood     </th> <td>3900.599</td>\n",
       "</tr>\n",
       "<tr>\n",
       "  <th>Method:</th>         <td>Conditional MLE</td> <th>  S.D. of innovations</th>   <td>0.056</td> \n",
       "</tr>\n",
       "<tr>\n",
       "  <th>Date:</th>          <td>Thu, 26 Nov 2020</td> <th>  AIC                </th>  <td>-5.765</td> \n",
       "</tr>\n",
       "<tr>\n",
       "  <th>Time:</th>              <td>18:52:42</td>     <th>  BIC                </th>  <td>-5.758</td> \n",
       "</tr>\n",
       "<tr>\n",
       "  <th>Sample:</th>           <td>02-02-2015</td>    <th>  HQIC               </th>  <td>-5.763</td> \n",
       "</tr>\n",
       "<tr>\n",
       "  <th></th>                 <td>- 05-24-2015</td>   <th>                     </th>     <td> </td>   \n",
       "</tr>\n",
       "</table>\n",
       "<table class=\"simpletable\">\n",
       "<tr>\n",
       "       <td></td>          <th>coef</th>     <th>std err</th>      <th>z</th>      <th>P>|z|</th>  <th>[0.025</th>    <th>0.975]</th>  \n",
       "</tr>\n",
       "<tr>\n",
       "  <th>intercept</th>   <td>    0.0070</td> <td>    0.011</td> <td>    0.622</td> <td> 0.534</td> <td>   -0.015</td> <td>    0.029</td>\n",
       "</tr>\n",
       "<tr>\n",
       "  <th>Humidity.L1</th> <td>    0.9997</td> <td>    0.000</td> <td> 2247.761</td> <td> 0.000</td> <td>    0.999</td> <td>    1.001</td>\n",
       "</tr>\n",
       "</table>\n",
       "<table class=\"simpletable\">\n",
       "<caption>Roots</caption>\n",
       "<tr>\n",
       "    <td></td>   <th>            Real</th>  <th>         Imaginary</th> <th>         Modulus</th>  <th>        Frequency</th>\n",
       "</tr>\n",
       "<tr>\n",
       "  <th>AR.1</th> <td>           1.0003</td> <td>          +0.0000j</td> <td>           1.0003</td> <td>           0.0000</td>\n",
       "</tr>\n",
       "</table>"
      ],
      "text/plain": [
       "<class 'statsmodels.iolib.summary.Summary'>\n",
       "\"\"\"\n",
       "                            AutoReg Model Results                             \n",
       "==============================================================================\n",
       "Dep. Variable:               Humidity   No. Observations:                 2664\n",
       "Model:                     AutoReg(1)   Log Likelihood                3900.599\n",
       "Method:               Conditional MLE   S.D. of innovations              0.056\n",
       "Date:                Thu, 26 Nov 2020   AIC                             -5.765\n",
       "Time:                        18:52:42   BIC                             -5.758\n",
       "Sample:                    02-02-2015   HQIC                            -5.763\n",
       "                         - 05-24-2015                                         \n",
       "===============================================================================\n",
       "                  coef    std err          z      P>|z|      [0.025      0.975]\n",
       "-------------------------------------------------------------------------------\n",
       "intercept       0.0070      0.011      0.622      0.534      -0.015       0.029\n",
       "Humidity.L1     0.9997      0.000   2247.761      0.000       0.999       1.001\n",
       "                                    Roots                                    \n",
       "=============================================================================\n",
       "                  Real          Imaginary           Modulus         Frequency\n",
       "-----------------------------------------------------------------------------\n",
       "AR.1            1.0003           +0.0000j            1.0003            0.0000\n",
       "-----------------------------------------------------------------------------\n",
       "\"\"\""
      ]
     },
     "execution_count": 24,
     "metadata": {},
     "output_type": "execute_result"
    }
   ],
   "source": [
    "\n",
    "train= df.Humidity[:-10] #train is all data minus the last 10 \n",
    "test= df.Humidity[-10:] # test set is only the last 10 data.\n",
    "\n",
    "\n",
    "#(train, test) = df.Humidity[:-10], df.Humidity[-10:]\n",
    "\n",
    "model = AutoReg(df['Humidity'], lags = 1).fit()\n",
    "model.summary()\n"
   ]
  },
  {
   "cell_type": "code",
   "execution_count": 25,
   "metadata": {
    "scrolled": true
   },
   "outputs": [
    {
     "data": {
      "text/plain": [
       "2015-05-24 04:00:00    25.889624\n",
       "2015-05-24 05:00:00    25.889624\n",
       "2015-05-24 06:00:00    25.911618\n",
       "2015-05-24 07:00:00    25.891291\n",
       "2015-05-24 08:00:00    25.977599\n",
       "2015-05-24 09:00:00    25.851635\n",
       "2015-05-24 10:00:00    25.699679\n",
       "2015-05-24 11:00:00    25.735668\n",
       "2015-05-24 12:00:00    25.699679\n",
       "2015-05-24 13:00:00    25.699679\n",
       "2015-05-24 14:00:00    25.681351\n",
       "Freq: H, dtype: float64"
      ]
     },
     "execution_count": 25,
     "metadata": {},
     "output_type": "execute_result"
    }
   ],
   "source": [
    "pred = model.predict(start=len(train), end=len(train)+10)\n",
    "pred"
   ]
  },
  {
   "cell_type": "code",
   "execution_count": 47,
   "metadata": {},
   "outputs": [
    {
     "data": {
      "text/html": [
       "<div>\n",
       "<style scoped>\n",
       "    .dataframe tbody tr th:only-of-type {\n",
       "        vertical-align: middle;\n",
       "    }\n",
       "\n",
       "    .dataframe tbody tr th {\n",
       "        vertical-align: top;\n",
       "    }\n",
       "\n",
       "    .dataframe thead th {\n",
       "        text-align: right;\n",
       "    }\n",
       "</style>\n",
       "<table border=\"1\" class=\"dataframe\">\n",
       "  <thead>\n",
       "    <tr style=\"text-align: right;\">\n",
       "      <th></th>\n",
       "      <th>Prediction</th>\n",
       "      <th>True Values</th>\n",
       "    </tr>\n",
       "  </thead>\n",
       "  <tbody>\n",
       "    <tr>\n",
       "      <th>0</th>\n",
       "      <td>25.890000</td>\n",
       "      <td>25.889683</td>\n",
       "    </tr>\n",
       "    <tr>\n",
       "      <th>1</th>\n",
       "      <td>25.912000</td>\n",
       "      <td>25.889683</td>\n",
       "    </tr>\n",
       "    <tr>\n",
       "      <th>2</th>\n",
       "      <td>25.891667</td>\n",
       "      <td>25.911677</td>\n",
       "    </tr>\n",
       "    <tr>\n",
       "      <th>3</th>\n",
       "      <td>25.978000</td>\n",
       "      <td>25.891350</td>\n",
       "    </tr>\n",
       "    <tr>\n",
       "      <th>4</th>\n",
       "      <td>25.852000</td>\n",
       "      <td>25.977659</td>\n",
       "    </tr>\n",
       "    <tr>\n",
       "      <th>5</th>\n",
       "      <td>25.700000</td>\n",
       "      <td>25.851694</td>\n",
       "    </tr>\n",
       "    <tr>\n",
       "      <th>6</th>\n",
       "      <td>25.736000</td>\n",
       "      <td>25.699736</td>\n",
       "    </tr>\n",
       "    <tr>\n",
       "      <th>7</th>\n",
       "      <td>25.700000</td>\n",
       "      <td>25.735726</td>\n",
       "    </tr>\n",
       "    <tr>\n",
       "      <th>8</th>\n",
       "      <td>25.700000</td>\n",
       "      <td>25.699736</td>\n",
       "    </tr>\n",
       "    <tr>\n",
       "      <th>9</th>\n",
       "      <td>25.681667</td>\n",
       "      <td>25.699736</td>\n",
       "    </tr>\n",
       "  </tbody>\n",
       "</table>\n",
       "</div>"
      ],
      "text/plain": [
       "   Prediction  True Values\n",
       "0   25.890000    25.889683\n",
       "1   25.912000    25.889683\n",
       "2   25.891667    25.911677\n",
       "3   25.978000    25.891350\n",
       "4   25.852000    25.977659\n",
       "5   25.700000    25.851694\n",
       "6   25.736000    25.699736\n",
       "7   25.700000    25.735726\n",
       "8   25.700000    25.699736\n",
       "9   25.681667    25.699736"
      ]
     },
     "execution_count": 47,
     "metadata": {},
     "output_type": "execute_result"
    }
   ],
   "source": [
    "pd.DataFrame(zip(test, pred), columns = {'True Values', 'Prediction'})"
   ]
  },
  {
   "cell_type": "code",
   "execution_count": null,
   "metadata": {},
   "outputs": [],
   "source": []
  },
  {
   "cell_type": "markdown",
   "metadata": {},
   "source": [
    "### Dickey Fuller Test for Stationarity"
   ]
  },
  {
   "cell_type": "code",
   "execution_count": null,
   "metadata": {},
   "outputs": [],
   "source": [
    "#if a variable is stationary, then its propertise (e.g. mean and variance)\n",
    "# are stable over time"
   ]
  },
  {
   "cell_type": "code",
   "execution_count": 38,
   "metadata": {},
   "outputs": [
    {
     "data": {
      "text/plain": [
       "(-2.1499851533319747,\n",
       " 0.22489577392281013,\n",
       " 23,\n",
       " 2640,\n",
       " {'1%': -3.4328294203524243,\n",
       "  '5%': -2.8626354202775866,\n",
       "  '10%': -2.5673531303087693},\n",
       " -7946.348602025413)"
      ]
     },
     "execution_count": 38,
     "metadata": {},
     "output_type": "execute_result"
    }
   ],
   "source": [
    "# it test if the coeff of AR1 is very close to one (AR1=1).\n",
    "# H0: coeff of AR1 =1 (not stationary) or unit root is present.\n",
    "#H1: it is stationary\n",
    "from statsmodels.tsa.stattools import adfuller\n",
    "#help(adfuller)\n",
    "adfuller(df.Humidity)"
   ]
  },
  {
   "cell_type": "code",
   "execution_count": 42,
   "metadata": {},
   "outputs": [
    {
     "data": {
      "text/plain": [
       "(-5.92915694180352,\n",
       " 2.4035285690791094e-07,\n",
       " 22,\n",
       " 2639,\n",
       " {'1%': -3.432830360798943,\n",
       "  '5%': -2.8626358355986774,\n",
       "  '10%': -2.5673533514279425},\n",
       " -7936.868635028)"
      ]
     },
     "execution_count": 42,
     "metadata": {},
     "output_type": "execute_result"
    }
   ],
   "source": [
    "# On First Differences\n",
    "\n",
    "adfuller(df['Humidity_diff'][1:])"
   ]
  },
  {
   "cell_type": "code",
   "execution_count": 43,
   "metadata": {
    "scrolled": true
   },
   "outputs": [
    {
     "data": {
      "image/png": "[encoded data removed]",
      "text/plain": [
       "<Figure size 864x432 with 1 Axes>"
      ]
     },
     "metadata": {
      "needs_background": "light"
     },
     "output_type": "display_data"
    }
   ],
   "source": [
    "df['Humidity_diff'].plot()\n",
    "plt.show()"
   ]
  },
  {
   "cell_type": "code",
   "execution_count": null,
   "metadata": {},
   "outputs": [],
   "source": []
  },
  {
   "cell_type": "markdown",
   "metadata": {},
   "source": [
    "## MA models"
   ]
  },
  {
   "cell_type": "code",
   "execution_count": 31,
   "metadata": {},
   "outputs": [
    {
     "data": {
      "text/html": [
       "<table class=\"simpletable\">\n",
       "<caption>ARMA Model Results</caption>\n",
       "<tr>\n",
       "  <th>Dep. Variable:</th>        <td>CO2</td>       <th>  No. Observations:  </th>    <td>2664</td>   \n",
       "</tr>\n",
       "<tr>\n",
       "  <th>Model:</th>            <td>ARMA(0, 1)</td>    <th>  Log Likelihood     </th> <td>-17086.161</td>\n",
       "</tr>\n",
       "<tr>\n",
       "  <th>Method:</th>             <td>css-mle</td>     <th>  S.D. of innovations</th>   <td>147.525</td> \n",
       "</tr>\n",
       "<tr>\n",
       "  <th>Date:</th>          <td>Thu, 26 Nov 2020</td> <th>  AIC                </th>  <td>34178.323</td>\n",
       "</tr>\n",
       "<tr>\n",
       "  <th>Time:</th>              <td>19:04:30</td>     <th>  BIC                </th>  <td>34195.985</td>\n",
       "</tr>\n",
       "<tr>\n",
       "  <th>Sample:</th>           <td>02-02-2015</td>    <th>  HQIC               </th>  <td>34184.714</td>\n",
       "</tr>\n",
       "<tr>\n",
       "  <th></th>                 <td>- 05-24-2015</td>   <th>                     </th>      <td> </td>    \n",
       "</tr>\n",
       "</table>\n",
       "<table class=\"simpletable\">\n",
       "<tr>\n",
       "      <td></td>         <th>coef</th>     <th>std err</th>      <th>z</th>      <th>P>|z|</th>  <th>[0.025</th>    <th>0.975]</th>  \n",
       "</tr>\n",
       "<tr>\n",
       "  <th>const</th>     <td>  717.8751</td> <td>    5.694</td> <td>  126.084</td> <td> 0.000</td> <td>  706.716</td> <td>  729.034</td>\n",
       "</tr>\n",
       "<tr>\n",
       "  <th>ma.L1.CO2</th> <td>    0.9924</td> <td>    0.002</td> <td>  559.115</td> <td> 0.000</td> <td>    0.989</td> <td>    0.996</td>\n",
       "</tr>\n",
       "</table>\n",
       "<table class=\"simpletable\">\n",
       "<caption>Roots</caption>\n",
       "<tr>\n",
       "    <td></td>   <th>            Real</th>  <th>         Imaginary</th> <th>         Modulus</th>  <th>        Frequency</th>\n",
       "</tr>\n",
       "<tr>\n",
       "  <th>MA.1</th> <td>          -1.0077</td> <td>          +0.0000j</td> <td>           1.0077</td> <td>           0.5000</td>\n",
       "</tr>\n",
       "</table>"
      ],
      "text/plain": [
       "<class 'statsmodels.iolib.summary.Summary'>\n",
       "\"\"\"\n",
       "                              ARMA Model Results                              \n",
       "==============================================================================\n",
       "Dep. Variable:                    CO2   No. Observations:                 2664\n",
       "Model:                     ARMA(0, 1)   Log Likelihood              -17086.161\n",
       "Method:                       css-mle   S.D. of innovations            147.525\n",
       "Date:                Thu, 26 Nov 2020   AIC                          34178.323\n",
       "Time:                        19:04:30   BIC                          34195.985\n",
       "Sample:                    02-02-2015   HQIC                         34184.714\n",
       "                         - 05-24-2015                                         \n",
       "==============================================================================\n",
       "                 coef    std err          z      P>|z|      [0.025      0.975]\n",
       "------------------------------------------------------------------------------\n",
       "const        717.8751      5.694    126.084      0.000     706.716     729.034\n",
       "ma.L1.CO2      0.9924      0.002    559.115      0.000       0.989       0.996\n",
       "                                    Roots                                    \n",
       "=============================================================================\n",
       "                  Real          Imaginary           Modulus         Frequency\n",
       "-----------------------------------------------------------------------------\n",
       "MA.1           -1.0077           +0.0000j            1.0077            0.5000\n",
       "-----------------------------------------------------------------------------\n",
       "\"\"\""
      ]
     },
     "execution_count": 31,
     "metadata": {},
     "output_type": "execute_result"
    }
   ],
   "source": [
    "from statsmodels.tsa.arima_model import ARMA\n",
    "\n",
    "model = ARMA(df['CO2'], order=(0, 1)).fit()\n",
    "#print(model.params)\n",
    "model.summary()"
   ]
  },
  {
   "cell_type": "code",
   "execution_count": 32,
   "metadata": {},
   "outputs": [
    {
     "data": {
      "text/html": [
       "<div>\n",
       "<style scoped>\n",
       "    .dataframe tbody tr th:only-of-type {\n",
       "        vertical-align: middle;\n",
       "    }\n",
       "\n",
       "    .dataframe tbody tr th {\n",
       "        vertical-align: top;\n",
       "    }\n",
       "\n",
       "    .dataframe thead th {\n",
       "        text-align: right;\n",
       "    }\n",
       "</style>\n",
       "<table border=\"1\" class=\"dataframe\">\n",
       "  <thead>\n",
       "    <tr style=\"text-align: right;\">\n",
       "      <th></th>\n",
       "      <th>Prediction</th>\n",
       "      <th>True Values</th>\n",
       "    </tr>\n",
       "  </thead>\n",
       "  <tbody>\n",
       "    <tr>\n",
       "      <th>0</th>\n",
       "      <td>1153.250000</td>\n",
       "      <td>909.922202</td>\n",
       "    </tr>\n",
       "    <tr>\n",
       "      <th>1</th>\n",
       "      <td>1152.400000</td>\n",
       "      <td>959.347917</td>\n",
       "    </tr>\n",
       "    <tr>\n",
       "      <th>2</th>\n",
       "      <td>1146.166667</td>\n",
       "      <td>909.455471</td>\n",
       "    </tr>\n",
       "    <tr>\n",
       "      <th>3</th>\n",
       "      <td>1145.400000</td>\n",
       "      <td>952.781756</td>\n",
       "    </tr>\n",
       "    <tr>\n",
       "      <th>4</th>\n",
       "      <td>1140.800000</td>\n",
       "      <td>909.024939</td>\n",
       "    </tr>\n",
       "    <tr>\n",
       "      <th>5</th>\n",
       "      <td>1150.250000</td>\n",
       "      <td>947.883250</td>\n",
       "    </tr>\n",
       "    <tr>\n",
       "      <th>6</th>\n",
       "      <td>1129.200000</td>\n",
       "      <td>918.699129</td>\n",
       "    </tr>\n",
       "    <tr>\n",
       "      <th>7</th>\n",
       "      <td>1125.800000</td>\n",
       "      <td>926.771241</td>\n",
       "    </tr>\n",
       "    <tr>\n",
       "      <th>8</th>\n",
       "      <td>1123.000000</td>\n",
       "      <td>915.386585</td>\n",
       "    </tr>\n",
       "    <tr>\n",
       "      <th>9</th>\n",
       "      <td>1124.000000</td>\n",
       "      <td>923.905798</td>\n",
       "    </tr>\n",
       "  </tbody>\n",
       "</table>\n",
       "</div>"
      ],
      "text/plain": [
       "    Prediction  True Values\n",
       "0  1153.250000   909.922202\n",
       "1  1152.400000   959.347917\n",
       "2  1146.166667   909.455471\n",
       "3  1145.400000   952.781756\n",
       "4  1140.800000   909.024939\n",
       "5  1150.250000   947.883250\n",
       "6  1129.200000   918.699129\n",
       "7  1125.800000   926.771241\n",
       "8  1123.000000   915.386585\n",
       "9  1124.000000   923.905798"
      ]
     },
     "execution_count": 32,
     "metadata": {},
     "output_type": "execute_result"
    }
   ],
   "source": [
    "(train, test) = df.CO2[:-10], df.CO2[-10:]\n",
    "\n",
    "model = ARMA(df['CO2'], order=(0, 1)).fit()\n",
    "pred = model.predict(start=len(train), end=len(train)+10)\n",
    "pd.DataFrame(zip(test, pred), columns = {'True Values', 'Prediction'})"
   ]
  },
  {
   "cell_type": "code",
   "execution_count": 34,
   "metadata": {},
   "outputs": [
    {
     "data": {
      "image/png": "[encoded data removed]",
      "text/plain": [
       "<Figure size 864x432 with 1 Axes>"
      ]
     },
     "metadata": {
      "needs_background": "light"
     },
     "output_type": "display_data"
    }
   ],
   "source": [
    "plt.plot(df['CO2'].resample('D').mean())\n",
    "plt.show()"
   ]
  },
  {
   "cell_type": "code",
   "execution_count": null,
   "metadata": {},
   "outputs": [],
   "source": []
  },
  {
   "cell_type": "markdown",
   "metadata": {},
   "source": [
    "## ARMA Models"
   ]
  },
  {
   "cell_type": "code",
   "execution_count": 36,
   "metadata": {
    "scrolled": true
   },
   "outputs": [
    {
     "name": "stderr",
     "output_type": "stream",
     "text": [
      "/opt/anaconda3/lib/python3.8/site-packages/statsmodels/base/model.py:567: ConvergenceWarning: Maximum Likelihood optimization failed to converge. Check mle_retvals\n",
      "  warn(\"Maximum Likelihood optimization failed to converge. \"\n"
     ]
    },
    {
     "data": {
      "text/html": [
       "<table class=\"simpletable\">\n",
       "<caption>ARMA Model Results</caption>\n",
       "<tr>\n",
       "  <th>Dep. Variable:</th>        <td>CO2</td>       <th>  No. Observations:  </th>   <td>2664</td>   \n",
       "</tr>\n",
       "<tr>\n",
       "  <th>Model:</th>            <td>ARMA(2, 1)</td>    <th>  Log Likelihood     </th> <td>-8013.658</td>\n",
       "</tr>\n",
       "<tr>\n",
       "  <th>Method:</th>             <td>css-mle</td>     <th>  S.D. of innovations</th>   <td>4.892</td>  \n",
       "</tr>\n",
       "<tr>\n",
       "  <th>Date:</th>          <td>Thu, 26 Nov 2020</td> <th>  AIC                </th> <td>16037.317</td>\n",
       "</tr>\n",
       "<tr>\n",
       "  <th>Time:</th>              <td>19:17:00</td>     <th>  BIC                </th> <td>16066.755</td>\n",
       "</tr>\n",
       "<tr>\n",
       "  <th>Sample:</th>           <td>02-02-2015</td>    <th>  HQIC               </th> <td>16047.970</td>\n",
       "</tr>\n",
       "<tr>\n",
       "  <th></th>                 <td>- 05-24-2015</td>   <th>                     </th>     <td> </td>    \n",
       "</tr>\n",
       "</table>\n",
       "<table class=\"simpletable\">\n",
       "<tr>\n",
       "      <td></td>         <th>coef</th>     <th>std err</th>      <th>z</th>      <th>P>|z|</th>  <th>[0.025</th>    <th>0.975]</th>  \n",
       "</tr>\n",
       "<tr>\n",
       "  <th>const</th>     <td>  681.8453</td> <td>   79.594</td> <td>    8.567</td> <td> 0.000</td> <td>  525.845</td> <td>  837.846</td>\n",
       "</tr>\n",
       "<tr>\n",
       "  <th>ar.L1.CO2</th> <td>    1.9905</td> <td>    0.001</td> <td> 3127.486</td> <td> 0.000</td> <td>    1.989</td> <td>    1.992</td>\n",
       "</tr>\n",
       "<tr>\n",
       "  <th>ar.L2.CO2</th> <td>   -0.9906</td> <td>    0.001</td> <td>-1557.457</td> <td> 0.000</td> <td>   -0.992</td> <td>   -0.989</td>\n",
       "</tr>\n",
       "<tr>\n",
       "  <th>ma.L1.CO2</th> <td>   -0.9324</td> <td>    0.007</td> <td> -137.335</td> <td> 0.000</td> <td>   -0.946</td> <td>   -0.919</td>\n",
       "</tr>\n",
       "</table>\n",
       "<table class=\"simpletable\">\n",
       "<caption>Roots</caption>\n",
       "<tr>\n",
       "    <td></td>   <th>            Real</th>  <th>         Imaginary</th> <th>         Modulus</th>  <th>        Frequency</th>\n",
       "</tr>\n",
       "<tr>\n",
       "  <th>AR.1</th> <td>           1.0047</td> <td>          -0.0076j</td> <td>           1.0047</td> <td>          -0.0012</td>\n",
       "</tr>\n",
       "<tr>\n",
       "  <th>AR.2</th> <td>           1.0047</td> <td>          +0.0076j</td> <td>           1.0047</td> <td>           0.0012</td>\n",
       "</tr>\n",
       "<tr>\n",
       "  <th>MA.1</th> <td>           1.0725</td> <td>          +0.0000j</td> <td>           1.0725</td> <td>           0.0000</td>\n",
       "</tr>\n",
       "</table>"
      ],
      "text/plain": [
       "<class 'statsmodels.iolib.summary.Summary'>\n",
       "\"\"\"\n",
       "                              ARMA Model Results                              \n",
       "==============================================================================\n",
       "Dep. Variable:                    CO2   No. Observations:                 2664\n",
       "Model:                     ARMA(2, 1)   Log Likelihood               -8013.658\n",
       "Method:                       css-mle   S.D. of innovations              4.892\n",
       "Date:                Thu, 26 Nov 2020   AIC                          16037.317\n",
       "Time:                        19:17:00   BIC                          16066.755\n",
       "Sample:                    02-02-2015   HQIC                         16047.970\n",
       "                         - 05-24-2015                                         \n",
       "==============================================================================\n",
       "                 coef    std err          z      P>|z|      [0.025      0.975]\n",
       "------------------------------------------------------------------------------\n",
       "const        681.8453     79.594      8.567      0.000     525.845     837.846\n",
       "ar.L1.CO2      1.9905      0.001   3127.486      0.000       1.989       1.992\n",
       "ar.L2.CO2     -0.9906      0.001  -1557.457      0.000      -0.992      -0.989\n",
       "ma.L1.CO2     -0.9324      0.007   -137.335      0.000      -0.946      -0.919\n",
       "                                    Roots                                    \n",
       "=============================================================================\n",
       "                  Real          Imaginary           Modulus         Frequency\n",
       "-----------------------------------------------------------------------------\n",
       "AR.1            1.0047           -0.0076j            1.0047           -0.0012\n",
       "AR.2            1.0047           +0.0076j            1.0047            0.0012\n",
       "MA.1            1.0725           +0.0000j            1.0725            0.0000\n",
       "-----------------------------------------------------------------------------\n",
       "\"\"\""
      ]
     },
     "execution_count": 36,
     "metadata": {},
     "output_type": "execute_result"
    }
   ],
   "source": [
    "model = ARMA(df['CO2'], order=(2, 1)).fit()\n",
    "model.summary()"
   ]
  },
  {
   "cell_type": "code",
   "execution_count": null,
   "metadata": {},
   "outputs": [],
   "source": [
    "# the stability condition has not (in the AR model)\n",
    "# invertability condition was not met (in the MA model)\n",
    "# the absolute value of the coeff of beta and tetha should be less than one."
   ]
  },
  {
   "cell_type": "code",
   "execution_count": 37,
   "metadata": {},
   "outputs": [
    {
     "data": {
      "text/html": [
       "<div>\n",
       "<style scoped>\n",
       "    .dataframe tbody tr th:only-of-type {\n",
       "        vertical-align: middle;\n",
       "    }\n",
       "\n",
       "    .dataframe tbody tr th {\n",
       "        vertical-align: top;\n",
       "    }\n",
       "\n",
       "    .dataframe thead th {\n",
       "        text-align: right;\n",
       "    }\n",
       "</style>\n",
       "<table border=\"1\" class=\"dataframe\">\n",
       "  <thead>\n",
       "    <tr style=\"text-align: right;\">\n",
       "      <th></th>\n",
       "      <th>Prediction</th>\n",
       "      <th>True Values</th>\n",
       "    </tr>\n",
       "  </thead>\n",
       "  <tbody>\n",
       "    <tr>\n",
       "      <th>0</th>\n",
       "      <td>1153.250000</td>\n",
       "      <td>1153.100008</td>\n",
       "    </tr>\n",
       "    <tr>\n",
       "      <th>1</th>\n",
       "      <td>1152.400000</td>\n",
       "      <td>1153.815913</td>\n",
       "    </tr>\n",
       "    <tr>\n",
       "      <th>2</th>\n",
       "      <td>1146.166667</td>\n",
       "      <td>1152.841089</td>\n",
       "    </tr>\n",
       "    <tr>\n",
       "      <th>3</th>\n",
       "      <td>1145.400000</td>\n",
       "      <td>1146.178615</td>\n",
       "    </tr>\n",
       "    <tr>\n",
       "      <th>4</th>\n",
       "      <td>1140.800000</td>\n",
       "      <td>1145.329978</td>\n",
       "    </tr>\n",
       "    <tr>\n",
       "      <th>5</th>\n",
       "      <td>1150.250000</td>\n",
       "      <td>1140.430858</td>\n",
       "    </tr>\n",
       "    <tr>\n",
       "      <th>6</th>\n",
       "      <td>1129.200000</td>\n",
       "      <td>1150.418761</td>\n",
       "    </tr>\n",
       "    <tr>\n",
       "      <th>7</th>\n",
       "      <td>1125.800000</td>\n",
       "      <td>1128.097215</td>\n",
       "    </tr>\n",
       "    <tr>\n",
       "      <th>8</th>\n",
       "      <td>1123.000000</td>\n",
       "      <td>1124.538928</td>\n",
       "    </tr>\n",
       "    <tr>\n",
       "      <th>9</th>\n",
       "      <td>1124.000000</td>\n",
       "      <td>1121.626476</td>\n",
       "    </tr>\n",
       "  </tbody>\n",
       "</table>\n",
       "</div>"
      ],
      "text/plain": [
       "    Prediction  True Values\n",
       "0  1153.250000  1153.100008\n",
       "1  1152.400000  1153.815913\n",
       "2  1146.166667  1152.841089\n",
       "3  1145.400000  1146.178615\n",
       "4  1140.800000  1145.329978\n",
       "5  1150.250000  1140.430858\n",
       "6  1129.200000  1150.418761\n",
       "7  1125.800000  1128.097215\n",
       "8  1123.000000  1124.538928\n",
       "9  1124.000000  1121.626476"
      ]
     },
     "execution_count": 37,
     "metadata": {},
     "output_type": "execute_result"
    }
   ],
   "source": [
    "pred = model.predict(start=len(train), end=len(train)+10)\n",
    "pd.DataFrame(zip(test, pred), columns = {'True Values', 'Prediction'})"
   ]
  },
  {
   "cell_type": "markdown",
   "metadata": {},
   "source": [
    "## Extra Pointer\n",
    "\n",
    "For those who are especially interested in time series:\n",
    "\n",
    "There is a further class of models called ARIMA models - this stands for Autoregressive Integrated Moving Average\n",
    "\n",
    "The 'integrated' here refers to the number of times needed to difference a series in order to achieve stationarity.\n",
    "So an ARMA model is equivalent to an ARIMA model of the same MA and AR orders with no differencing.\n",
    "\n",
    "ARMA(p,q) is equivalent to ARIMA(p,0,q)\n"
   ]
  },
  {
   "cell_type": "code",
   "execution_count": 44,
   "metadata": {},
   "outputs": [
    {
     "data": {
      "text/html": [
       "<table class=\"simpletable\">\n",
       "<caption>ARIMA Model Results</caption>\n",
       "<tr>\n",
       "  <th>Dep. Variable:</th>    <td>D.Humidity</td>    <th>  No. Observations:  </th>   <td>2662</td>   \n",
       "</tr>\n",
       "<tr>\n",
       "  <th>Model:</th>          <td>ARIMA(1, 1, 5)</td>  <th>  Log Likelihood     </th> <td>4021.107</td> \n",
       "</tr>\n",
       "<tr>\n",
       "  <th>Method:</th>             <td>css-mle</td>     <th>  S.D. of innovations</th>   <td>0.053</td>  \n",
       "</tr>\n",
       "<tr>\n",
       "  <th>Date:</th>          <td>Thu, 26 Nov 2020</td> <th>  AIC                </th> <td>-8026.213</td>\n",
       "</tr>\n",
       "<tr>\n",
       "  <th>Time:</th>              <td>19:49:57</td>     <th>  BIC                </th> <td>-7979.118</td>\n",
       "</tr>\n",
       "<tr>\n",
       "  <th>Sample:</th>           <td>02-02-2015</td>    <th>  HQIC               </th> <td>-8009.170</td>\n",
       "</tr>\n",
       "<tr>\n",
       "  <th></th>                 <td>- 05-24-2015</td>   <th>                     </th>     <td> </td>    \n",
       "</tr>\n",
       "</table>\n",
       "<table class=\"simpletable\">\n",
       "<tr>\n",
       "          <td></td>            <th>coef</th>     <th>std err</th>      <th>z</th>      <th>P>|z|</th>  <th>[0.025</th>    <th>0.975]</th>  \n",
       "</tr>\n",
       "<tr>\n",
       "  <th>const</th>            <td>   -0.0001</td> <td>    0.004</td> <td>   -0.030</td> <td> 0.976</td> <td>   -0.007</td> <td>    0.007</td>\n",
       "</tr>\n",
       "<tr>\n",
       "  <th>ar.L1.D.Humidity</th> <td>    0.9766</td> <td>    0.008</td> <td>  124.101</td> <td> 0.000</td> <td>    0.961</td> <td>    0.992</td>\n",
       "</tr>\n",
       "<tr>\n",
       "  <th>ma.L1.D.Humidity</th> <td>   -1.0496</td> <td>    0.021</td> <td>  -49.345</td> <td> 0.000</td> <td>   -1.091</td> <td>   -1.008</td>\n",
       "</tr>\n",
       "<tr>\n",
       "  <th>ma.L2.D.Humidity</th> <td>    0.1175</td> <td>    0.028</td> <td>    4.178</td> <td> 0.000</td> <td>    0.062</td> <td>    0.173</td>\n",
       "</tr>\n",
       "<tr>\n",
       "  <th>ma.L3.D.Humidity</th> <td>   -0.0430</td> <td>    0.029</td> <td>   -1.486</td> <td> 0.137</td> <td>   -0.100</td> <td>    0.014</td>\n",
       "</tr>\n",
       "<tr>\n",
       "  <th>ma.L4.D.Humidity</th> <td>    0.1117</td> <td>    0.028</td> <td>    3.931</td> <td> 0.000</td> <td>    0.056</td> <td>    0.167</td>\n",
       "</tr>\n",
       "<tr>\n",
       "  <th>ma.L5.D.Humidity</th> <td>   -0.0508</td> <td>    0.020</td> <td>   -2.497</td> <td> 0.013</td> <td>   -0.091</td> <td>   -0.011</td>\n",
       "</tr>\n",
       "</table>\n",
       "<table class=\"simpletable\">\n",
       "<caption>Roots</caption>\n",
       "<tr>\n",
       "    <td></td>   <th>            Real</th>  <th>         Imaginary</th> <th>         Modulus</th>  <th>        Frequency</th>\n",
       "</tr>\n",
       "<tr>\n",
       "  <th>AR.1</th> <td>           1.0240</td> <td>          +0.0000j</td> <td>           1.0240</td> <td>           0.0000</td>\n",
       "</tr>\n",
       "<tr>\n",
       "  <th>MA.1</th> <td>           1.1167</td> <td>          -0.0000j</td> <td>           1.1167</td> <td>          -0.0000</td>\n",
       "</tr>\n",
       "<tr>\n",
       "  <th>MA.2</th> <td>          -1.2356</td> <td>          -1.5418j</td> <td>           1.9758</td> <td>          -0.3575</td>\n",
       "</tr>\n",
       "<tr>\n",
       "  <th>MA.3</th> <td>          -1.2356</td> <td>          +1.5418j</td> <td>           1.9758</td> <td>           0.3575</td>\n",
       "</tr>\n",
       "<tr>\n",
       "  <th>MA.4</th> <td>           1.7763</td> <td>          -1.1656j</td> <td>           2.1246</td> <td>          -0.0924</td>\n",
       "</tr>\n",
       "<tr>\n",
       "  <th>MA.5</th> <td>           1.7763</td> <td>          +1.1656j</td> <td>           2.1246</td> <td>           0.0924</td>\n",
       "</tr>\n",
       "</table>"
      ],
      "text/plain": [
       "<class 'statsmodels.iolib.summary.Summary'>\n",
       "\"\"\"\n",
       "                             ARIMA Model Results                              \n",
       "==============================================================================\n",
       "Dep. Variable:             D.Humidity   No. Observations:                 2662\n",
       "Model:                 ARIMA(1, 1, 5)   Log Likelihood                4021.107\n",
       "Method:                       css-mle   S.D. of innovations              0.053\n",
       "Date:                Thu, 26 Nov 2020   AIC                          -8026.213\n",
       "Time:                        19:49:57   BIC                          -7979.118\n",
       "Sample:                    02-02-2015   HQIC                         -8009.170\n",
       "                         - 05-24-2015                                         \n",
       "====================================================================================\n",
       "                       coef    std err          z      P>|z|      [0.025      0.975]\n",
       "------------------------------------------------------------------------------------\n",
       "const               -0.0001      0.004     -0.030      0.976      -0.007       0.007\n",
       "ar.L1.D.Humidity     0.9766      0.008    124.101      0.000       0.961       0.992\n",
       "ma.L1.D.Humidity    -1.0496      0.021    -49.345      0.000      -1.091      -1.008\n",
       "ma.L2.D.Humidity     0.1175      0.028      4.178      0.000       0.062       0.173\n",
       "ma.L3.D.Humidity    -0.0430      0.029     -1.486      0.137      -0.100       0.014\n",
       "ma.L4.D.Humidity     0.1117      0.028      3.931      0.000       0.056       0.167\n",
       "ma.L5.D.Humidity    -0.0508      0.020     -2.497      0.013      -0.091      -0.011\n",
       "                                    Roots                                    \n",
       "=============================================================================\n",
       "                  Real          Imaginary           Modulus         Frequency\n",
       "-----------------------------------------------------------------------------\n",
       "AR.1            1.0240           +0.0000j            1.0240            0.0000\n",
       "MA.1            1.1167           -0.0000j            1.1167           -0.0000\n",
       "MA.2           -1.2356           -1.5418j            1.9758           -0.3575\n",
       "MA.3           -1.2356           +1.5418j            1.9758            0.3575\n",
       "MA.4            1.7763           -1.1656j            2.1246           -0.0924\n",
       "MA.5            1.7763           +1.1656j            2.1246            0.0924\n",
       "-----------------------------------------------------------------------------\n",
       "\"\"\""
      ]
     },
     "execution_count": 44,
     "metadata": {},
     "output_type": "execute_result"
    }
   ],
   "source": [
    "# Example:\n",
    "\n",
    "from statsmodels.tsa.arima_model import ARIMA\n",
    "model=ARIMA(df['Humidity'] ,order=(1,1,5)).fit()\n",
    "model.summary()"
   ]
  },
  {
   "cell_type": "code",
   "execution_count": null,
   "metadata": {},
   "outputs": [],
   "source": []
  }
 ],
 "metadata": {
  "kernelspec": {
   "display_name": "Python 3",
   "language": "python",
   "name": "python3"
  },
  "language_info": {
   "codemirror_mode": {
    "name": "ipython",
    "version": 3
   },
   "file_extension": ".py",
   "mimetype": "text/x-python",
   "name": "python",
   "nbconvert_exporter": "python",
   "pygments_lexer": "ipython3",
   "version": "3.8.3"
  }
 },
 "nbformat": 4,
 "nbformat_minor": 4
}
