{
 "cells": [
  {
   "cell_type": "markdown",
   "metadata": {},
   "source": [
    "## Challenge: Functions\n",
    "\n",
    "In this challenge, we will be defining and applying some functions for problems which we have seen in similar form before!\n",
    "\n",
    "**In the cell below, define a function called max_two which finds the maximum of two input numbers.**\n"
   ]
  },
  {
   "cell_type": "code",
   "execution_count": 1,
   "metadata": {},
   "outputs": [],
   "source": [
    "def max_two(a, b):\n",
    "    return max(a, b)"
   ]
  },
  {
   "cell_type": "markdown",
   "metadata": {},
   "source": [
    "#### Now apply the function to several pairs of numbers to test if it functions correctly.\n"
   ]
  },
  {
   "cell_type": "code",
   "execution_count": 2,
   "metadata": {},
   "outputs": [
    {
     "data": {
      "text/plain": [
       "2"
      ]
     },
     "execution_count": 2,
     "metadata": {},
     "output_type": "execute_result"
    }
   ],
   "source": [
    "max_two(1, 2)\n"
   ]
  },
  {
   "cell_type": "markdown",
   "metadata": {},
   "source": [
    "#### Now write a Python function called check_range to check whether a number is in a given range. \n",
    "\n",
    "The function should take three inputs: the number to test, the first number of the range, and the last number of the range. Add a short documentation that specifies the order of inputs. Lastly, the function should return different statements based on whether the test fails or succeeds!\n"
   ]
  },
  {
   "cell_type": "code",
   "execution_count": 1,
   "metadata": {},
   "outputs": [],
   "source": [
    "def check_range(i, x, y):\n",
    "    if i in range(x, y):\n",
    "        print(str(i) + \"is in range\") # we use str to make i to be a string \n",
    "    else : \n",
    "        print(\"number is not in range\")\n"
   ]
  },
  {
   "cell_type": "markdown",
   "metadata": {},
   "source": [
    "#### Again, apply the function to different numbers to test if it functions correctly.\n"
   ]
  },
  {
   "cell_type": "code",
   "execution_count": 2,
   "metadata": {},
   "outputs": [
    {
     "name": "stdout",
     "output_type": "stream",
     "text": [
      "3is in range\n",
      "number is not in range\n"
     ]
    }
   ],
   "source": [
    "check_range(3, 2, 4)\n",
    "check_range?\n",
    "\n",
    "check_range(5, 2, 4)\n",
    "check_range?"
   ]
  },
  {
   "cell_type": "markdown",
   "metadata": {},
   "source": [
    "#### Write a function called count_upper_lower that counts the number of uppercase and the number of lowercase characters in a given string."
   ]
  },
  {
   "cell_type": "code",
   "execution_count": 5,
   "metadata": {},
   "outputs": [],
   "source": [
    "def count_upper_lower(string):\n",
    "    d={\"UPPER_CASE\":0, \"LOWER_CASE\":0} # this is a dictionary that has 2 keys and 2 values\n",
    "    for char in string:\n",
    "        if char.isupper():\n",
    "            d[\"UPPER_CASE\"]+=1\n",
    "        elif char.islower():\n",
    "            d[\"LOWER_CASE\"]+=1\n",
    "        else:\n",
    "            pass\n",
    "    print(\"no of upper case characters:\", d[\"UPPER_CASE\"])\n",
    "    print(\"no of lower case characters:\", d[\"LOWER_CASE\"])\n"
   ]
  },
  {
   "cell_type": "markdown",
   "metadata": {},
   "source": [
    "#### Apply the function to the test string \"A large grey cat was asleep on a rocking chair in Idaho.\"."
   ]
  },
  {
   "cell_type": "code",
   "execution_count": 29,
   "metadata": {},
   "outputs": [
    {
     "name": "stdout",
     "output_type": "stream",
     "text": [
      "no of upper case characters: 2\n",
      "no of lower case characters: 42\n"
     ]
    }
   ],
   "source": [
    "teststring = \"A large grey cat was asleep on a rocking chair in Idaho.\"\n",
    "count_upper_lower(teststring)\n"
   ]
  },
  {
   "cell_type": "code",
   "execution_count": null,
   "metadata": {},
   "outputs": [],
   "source": []
  }
 ],
 "metadata": {
  "kernelspec": {
   "display_name": "Python 3",
   "language": "python",
   "name": "python3"
  },
  "language_info": {
   "codemirror_mode": {
    "name": "ipython",
    "version": 3
   },
   "file_extension": ".py",
   "mimetype": "text/x-python",
   "name": "python",
   "nbconvert_exporter": "python",
   "pygments_lexer": "ipython3",
   "version": "3.7.7"
  }
 },
 "nbformat": 4,
 "nbformat_minor": 2
}
