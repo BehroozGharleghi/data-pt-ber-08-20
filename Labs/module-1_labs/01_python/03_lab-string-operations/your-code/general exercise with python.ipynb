{
 "cells": [
  {
   "cell_type": "code",
   "execution_count": 10,
   "metadata": {},
   "outputs": [
    {
     "name": "stdout",
     "output_type": "stream",
     "text": [
      "PYTHON FOR BEGINNERS\n",
      "python for beginners\n",
      "5\n",
      "python for absolute beginners\n",
      "True\n"
     ]
    }
   ],
   "source": [
    "# int() converts str into integer\n",
    "# float converts str into float\n",
    "# bool converts str into boolean\n",
    "# in order to print multiple lines, we need triple  qoute ''' ... '''\n",
    "\n",
    "course = 'python for beginners'\n",
    "print(course.upper())\n",
    "print(course.lower())\n",
    "print(course.find('n')) #this returns the first oocurance of letter n. Remember that this fn is case sensitive\n",
    "print(course.replace('beginners', 'absolute beginners'))\n",
    "print('python' in course) # this is to check if a character exist in the string"
   ]
  },
  {
   "cell_type": "code",
   "execution_count": 11,
   "metadata": {},
   "outputs": [
    {
     "name": "stdout",
     "output_type": "stream",
     "text": [
      "1\n"
     ]
    }
   ],
   "source": [
    "print(10 % 3) # % is called modulus and returns the remainder of the equation"
   ]
  },
  {
   "cell_type": "code",
   "execution_count": 18,
   "metadata": {},
   "outputs": [
    {
     "name": "stdout",
     "output_type": "stream",
     "text": [
      "7\n",
      "16\n",
      "22\n",
      "52\n",
      "37\n"
     ]
    }
   ],
   "source": [
    "# augmented assignment operator:\n",
    "x = 10\n",
    "x -=3\n",
    "print(x)\n",
    "y = 10 + 3 * 2  # the last operator calculates first. \n",
    "print(y)\n",
    "#here is the order of operators: exponentiation , mulitiplication or division, addition or subtraction:\n",
    "y=10+3*2**2\n",
    "print(y)\n",
    "#if we add parenthesis, that part will take priority:\n",
    "y=(10+3)*2**2\n",
    "print(y)\n",
    "y=(10+3)*3-2\n",
    "print(y)"
   ]
  },
  {
   "cell_type": "code",
   "execution_count": 19,
   "metadata": {},
   "outputs": [
    {
     "name": "stdout",
     "output_type": "stream",
     "text": [
      "3.4\n"
     ]
    }
   ],
   "source": [
    "print(abs(-3.4))"
   ]
  },
  {
   "cell_type": "code",
   "execution_count": 21,
   "metadata": {},
   "outputs": [
    {
     "name": "stdout",
     "output_type": "stream",
     "text": [
      "3\n",
      "2\n"
     ]
    }
   ],
   "source": [
    "import math # this has a bunch of usable operators\n",
    "# here is a list of operators: https://docs.python.org/3/library/math.html\n",
    "print(math.ceil(2.9))\n",
    "print(math.floor(2.9))"
   ]
  },
  {
   "cell_type": "code",
   "execution_count": 29,
   "metadata": {},
   "outputs": [
    {
     "name": "stdout",
     "output_type": "stream",
     "text": [
      "1\n",
      "2\n",
      "3\n",
      "4\n",
      "5\n",
      "done\n"
     ]
    }
   ],
   "source": [
    "i = 1\n",
    "while i<=5:\n",
    "    print(i)\n",
    "    i = i+1\n",
    "print('done')"
   ]
  }
 ],
 "metadata": {
  "kernelspec": {
   "display_name": "Python 3",
   "language": "python",
   "name": "python3"
  },
  "language_info": {
   "codemirror_mode": {
    "name": "ipython",
    "version": 3
   },
   "file_extension": ".py",
   "mimetype": "text/x-python",
   "name": "python",
   "nbconvert_exporter": "python",
   "pygments_lexer": "ipython3",
   "version": "3.7.7"
  }
 },
 "nbformat": 4,
 "nbformat_minor": 4
}
