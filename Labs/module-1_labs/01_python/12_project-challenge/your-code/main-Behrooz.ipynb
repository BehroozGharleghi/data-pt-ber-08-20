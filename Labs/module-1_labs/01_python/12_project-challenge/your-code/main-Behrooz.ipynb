{
 "cells": [
  {
   "cell_type": "markdown",
   "metadata": {},
   "source": [
    "## Challenge A: Password Validator\n",
    "\n",
    "#### Description\n",
    "Your job is to create a simple password validation function, as seen on many websites.\n",
    "\n",
    "The rules for a valid password are as follows:\n",
    "\n",
    "There needs to be at least 1 uppercase letter.\n",
    "There needs to be at least 1 lowercase letter.\n",
    "There needs to be at least 1 number.\n",
    "The password needs to be at least 8 characters long.\n",
    "\n",
    "*You are permitted to use any methods to validate the password.*"
   ]
  },
  {
   "cell_type": "code",
   "execution_count": 1,
   "metadata": {},
   "outputs": [],
   "source": [
    "import re"
   ]
  },
  {
   "cell_type": "code",
   "execution_count": 2,
   "metadata": {},
   "outputs": [],
   "source": [
    "def pass_check(x):\n",
    "\n",
    "    if re.findall(\"[a-z]\", x) == []:\n",
    "        print(\"Invalid, you need at least one lowercase letter\")\n",
    "    elif re.findall(\"[A-Z]\", x) == []:\n",
    "        print(\"the password must have one uppercase\")\n",
    "    elif re.findall('[0-9]', x) == []:\n",
    "        print(\"your password must have one number\")\n",
    "    elif len(x)<8:\n",
    "        print(\"minimum 8 characters\")\n",
    "    return True\n",
    "        \n"
   ]
  },
  {
   "cell_type": "code",
   "execution_count": 3,
   "metadata": {},
   "outputs": [
    {
     "name": "stdout",
     "output_type": "stream",
     "text": [
      "Please enter password Ghdyeyu7\n"
     ]
    },
    {
     "data": {
      "text/plain": [
       "True"
      ]
     },
     "execution_count": 3,
     "metadata": {},
     "output_type": "execute_result"
    }
   ],
   "source": [
    "x = input(\"Please enter password \")\n",
    "pass_check(x)"
   ]
  },
  {
   "cell_type": "code",
   "execution_count": 4,
   "metadata": {},
   "outputs": [
    {
     "name": "stdout",
     "output_type": "stream",
     "text": [
      "enter password: hgdf\n",
      "password should be at least 8 characters\n",
      "password should have one digit\n",
      "password should have one uppercase\n",
      "password should have one special charactewr\n"
     ]
    }
   ],
   "source": [
    "# your code here\n",
    "\n",
    "#def password_check(pwd):\n",
    "pwd = input('enter password: ') \n",
    "\n",
    "special_sym = ['!', '@', '#', '$']\n",
    "\n",
    "if len(pwd) < 8:\n",
    "    print('password should be at least 8 characters')\n",
    "#val = False\n",
    "if not any(char.isdigit() for char in pwd): \n",
    "    print('password should have one digit')\n",
    "#val = False\n",
    "if not any(char.isupper() for char in pwd):\n",
    "    print('password should have one uppercase')\n",
    "#val = False\n",
    "if not any(char.islower() for char in pwd):\n",
    "    print('password should have one lowercase')\n",
    "#val = False\n",
    "if not any(char in special_sym for char in pwd):\n",
    "    print('password should have one special charactewr')\n",
    "#val =False \n",
    "#return False\n",
    "#else:\n",
    "#return True \n",
    "\n",
    "\n",
    "\n"
   ]
  },
  {
   "cell_type": "code",
   "execution_count": 5,
   "metadata": {},
   "outputs": [
    {
     "name": "stdout",
     "output_type": "stream",
     "text": [
      "enter password: hghfg\n"
     ]
    }
   ],
   "source": [
    "#Cristina helped to convert the programme above into a function:\n",
    "\n",
    "pwd = input('enter password: ') \n",
    "\n",
    "def validate(pwd):\n",
    "    if len(pwd) < 8:\n",
    "        print('password should be at least 8 characters')\n",
    "        return False\n",
    "    if not any(char.isdigit() for char in pwd): \n",
    "        print('password should have one digit')\n",
    "        return False\n",
    "    if not any(char.isupper() for char in pwd):\n",
    "        print('password should have one uppercase')\n",
    "        return False\n",
    "    if not any(char.islower() for char in pwd):\n",
    "        print('password should have one lowercase')\n",
    "        return False\n",
    "    if not any(char in special_sym for char in pwd):\n",
    "        print('password should have one special charactewr')\n",
    "        return False\n",
    "    return True\n"
   ]
  },
  {
   "cell_type": "code",
   "execution_count": 6,
   "metadata": {},
   "outputs": [],
   "source": [
    "# this is the solution of the above code by Cristina:\n",
    "# in a boolean True False, sum only sums the True elements: \n",
    "def validate(x):\n",
    "    if sum(list(map(str.isupper, x))) >=1: # this means at least one element is uppercase\n",
    "            if sum(list(map(str.islower, x))) >=1:\n",
    "                if sum(list(map(str.isnumeric, x))) >=1:\n",
    "                    if len(x) >= 8:\n",
    "                        print(\"thanks, all good\")\n",
    "                        return True\n",
    "    print(\"this password is not valid\") #\n",
    "    return False \n"
   ]
  },
  {
   "cell_type": "code",
   "execution_count": 7,
   "metadata": {},
   "outputs": [
    {
     "name": "stdout",
     "output_type": "stream",
     "text": [
      "enter password: dgfj\n",
      "this password is not valid\n"
     ]
    },
    {
     "data": {
      "text/plain": [
       "False"
      ]
     },
     "execution_count": 7,
     "metadata": {},
     "output_type": "execute_result"
    }
   ],
   "source": [
    "pwd = input(\"enter password: \")\n",
    "validate(pwd)"
   ]
  },
  {
   "cell_type": "code",
   "execution_count": 8,
   "metadata": {},
   "outputs": [
    {
     "data": {
      "text/plain": [
       "2"
      ]
     },
     "execution_count": 8,
     "metadata": {},
     "output_type": "execute_result"
    }
   ],
   "source": [
    "# this is an example of true, false:\n",
    "x = [True, False, False, True]\n",
    "y = sum(x)\n",
    "y"
   ]
  },
  {
   "cell_type": "markdown",
   "metadata": {},
   "source": [
    "## Challenge B: Credit Card Validator\n",
    "\n",
    "#### Description\n",
    "\n",
    "Your task is to write a program which reads credit card number prints the validation result ‘Valid’ or ‘Invalid’.\n",
    "\n",
    "A valid credit card has following features:\n",
    "\n",
    "- It should start with 4, 5 or 6\n",
    "- It should have exactly 16 digits\n",
    "- It should only consist of digits (0-9)\n",
    "- It may have digits in groups of 4 and separated by one hyphen \"-\"\n",
    "- It should NOT use any other separator like ‘ ’,‘_’, etc.\n",
    "- It should NOT have 4 or more consecutive repeated digits\n",
    "\n",
    "Valid Credit Card Numbers:\n",
    "1. 4263525778615786\n",
    "2. 5535535535559555\n",
    "3. 6344-2389-7542-9163\n",
    "\n",
    "Invalid Credit Card Numbers:\n",
    "1. 42536258796157867       \n",
    "2. 66266666626662666       \n",
    "3. 5122-2368-7954 -3214   \n",
    "4. 44244x4424442444       \n",
    "5. 0525362587961578"
   ]
  },
  {
   "cell_type": "code",
   "execution_count": 9,
   "metadata": {},
   "outputs": [
    {
     "name": "stdout",
     "output_type": "stream",
     "text": [
      "enter you card no hfbgf\n",
      "use, 4, 5, 6\n"
     ]
    }
   ],
   "source": [
    "# this is what I did together with Shinan:\n",
    "\n",
    "cc = input(\"enter you card no \")\n",
    "if cc.startswith(('4', '5', '6'), 0) is False:\n",
    "    print(\"use, 4, 5, 6\")\n",
    "elif len(cc) != 16:\n",
    "    print(\"invalid, please enter 16 digits\")\n",
    "elif cc.isdigit() == False:\n",
    "    print(\"enter only numbers\")\n",
    "    \n"
   ]
  },
  {
   "cell_type": "code",
   "execution_count": 13,
   "metadata": {},
   "outputs": [
    {
     "name": "stdout",
     "output_type": "stream",
     "text": [
      "enter your card no45678909655\n",
      "45678909655\n"
     ]
    },
    {
     "data": {
      "text/plain": [
       "'7'"
      ]
     },
     "execution_count": 13,
     "metadata": {},
     "output_type": "execute_result"
    }
   ],
   "source": [
    "cc = input(\"enter your card no\")\n",
    "print(cc)\n",
    "type(cc)\n",
    "cc[3]"
   ]
  },
  {
   "cell_type": "code",
   "execution_count": 11,
   "metadata": {},
   "outputs": [],
   "source": [
    "ss =['6785-4536-4235']"
   ]
  },
  {
   "cell_type": "code",
   "execution_count": 2,
   "metadata": {},
   "outputs": [],
   "source": [
    "# your code here \n",
    "#  input returns a string always\n",
    "#\\W returns non-numeric values\n",
    "def validate_cc(x):\n",
    "    if( [0] in ('4', '5', '6')) & (len(x.replace('-', ''))==16), )\n",
    "    "
   ]
  },
  {
   "cell_type": "markdown",
   "metadata": {},
   "source": [
    "## Challenge C: Multiplication Table\n",
    "\n",
    "#### Description\n",
    "    \n",
    "Your task, is to create a function which returns a **NxN multiplication table**, of size N provided as a function argument.\n",
    "\n",
    "for example, when given size is 3:\n",
    "\n",
    "1 2 3\n",
    "\n",
    "2 4 6\n",
    "\n",
    "3 6 9\n",
    "\n",
    "So for the given example, the return value should be: [[1,2,3],[2,4,6],[3,6,9]]"
   ]
  },
  {
   "cell_type": "code",
   "execution_count": 19,
   "metadata": {},
   "outputs": [
    {
     "name": "stdout",
     "output_type": "stream",
     "text": [
      "Please enter the size of table: 4\n",
      "1\t2\t3\t4\t\n",
      "2\t4\t6\t8\t\n",
      "3\t6\t9\t12\t\n",
      "4\t8\t12\t16\t\n"
     ]
    }
   ],
   "source": [
    "#this creates a range of multiplied numbers:\n",
    "    \n",
    "n=int(input('Please enter the size of table: '))\n",
    "for row in range(1,n+1):\n",
    "    for col in range(1,n+1):\n",
    "        print(row*col, end=\"\\t\")\n",
    "    print()\n",
    "\n"
   ]
  },
  {
   "cell_type": "code",
   "execution_count": 15,
   "metadata": {},
   "outputs": [],
   "source": [
    "# this is by Cristina to create the table:\n",
    "\n",
    "def multable(x):\n",
    "    import numpy as np\n",
    "    x = int(x)\n",
    "    y = np.ones((x,x))\n",
    "    "
   ]
  },
  {
   "cell_type": "markdown",
   "metadata": {},
   "source": [
    "## Challenge D: ID Assignment\n",
    "\n",
    "#### Description\n",
    "\n",
    "a) You work in a company with 100 people - to start, please create a list of people ranging from Person 1 to Person 100. For company purposes, each of these people is identified with a Personal ID, which is a combination of 2 uppercase letters and a random number of 5 digits. For each person, generate a random ID, and store it in a dictionary alongside their name (for example ('Person 5': 'AB73648')). Then sort the dictionary according to the values of their Personal IDs.\n",
    "\n",
    "b) One month later, your company changes the ID format for every employee - from now on, every person will have an ID that consists of only letters. In order to convert them, every number in the employee ID should be replaced by the corresponding uppercase letter in the alphabeth. Please write a function that accomplishes this change and apply it to the dictionary."
   ]
  },
  {
   "cell_type": "code",
   "execution_count": 16,
   "metadata": {},
   "outputs": [],
   "source": [
    "# This is what i did with the help from Filipa :) \n",
    "\n",
    "person_fn = lambda x:  \"person \" + str(x)\n",
    "list_person = [person_fn(x) for x in range(101)]\n",
    "#print(list_person)\n",
    "\n",
    "# now we need to create the random 5 digits:\n",
    "import random\n",
    "mynum = list(random.sample(range(10000, 99999), 100))\n",
    "\n",
    "import string\n",
    "abc = string.ascii_uppercase #this generates uppercase 26 alphabets\n",
    "\n",
    "abc1 = [i for i in abc]\n",
    "\n",
    "def double_letter(x):\n",
    "    return random.choice(x)+random.choice(x)\n",
    "\n",
    "letter_list= []\n",
    "while len(letter_list)<100: \n",
    "    letter_list.append(double_letter(abc1))\n",
    "\n",
    "\n",
    "mynum1 = str(mynum)\n",
    "mynum2 = list(map(str, mynum)) # now each number is a string\n",
    "\n",
    "comb_list = [a + b for a, b in zip(letter_list, mynum2)] # combine letters and numbers\n",
    "\n",
    "people_ids = dict(zip(list_person, comb_list)) # this is a dictionary of IDs\n",
    "#print(people_ids)"
   ]
  },
  {
   "cell_type": "code",
   "execution_count": 17,
   "metadata": {},
   "outputs": [
    {
     "name": "stdout",
     "output_type": "stream",
     "text": [
      "{'person 0': 'OJDDCHD', 'person 1': 'BXDEDIH', 'person 2': 'ILCBDGC', 'person 3': 'ZHDGZGB', 'person 4': 'RMFGGDH', 'person 5': 'AKCCHZD', 'person 6': 'INCFDCD', 'person 7': 'OGCAIIH', 'person 8': 'RQHGFEC', 'person 9': 'PSGEHAB', 'person 10': 'FBBEZAH', 'person 11': 'TFBDGCI', 'person 12': 'FAEIAHH', 'person 13': 'BWHFGII', 'person 14': 'MSBGGBD', 'person 15': 'KHDCDZC', 'person 16': 'MBCDZAC', 'person 17': 'UAHDEZH', 'person 18': 'EQGEDGF', 'person 19': 'JMAAAIZ', 'person 20': 'VFIFFCI', 'person 21': 'XWCHADZ', 'person 22': 'FZGGIHG', 'person 23': 'IPGBFZC', 'person 24': 'PIHBADB', 'person 25': 'UNCBFHH', 'person 26': 'VKAAAGD', 'person 27': 'VKDCDGZ', 'person 28': 'KWHHHGA', 'person 29': 'ZSBBFZZ', 'person 30': 'YUAGIZA', 'person 31': 'LMDDCAD', 'person 32': 'VUFHDZG', 'person 33': 'VVAHBEH', 'person 34': 'KCCZAZB', 'person 35': 'TLHDZEE', 'person 36': 'YSFBHZA', 'person 37': 'ABHEZHH', 'person 38': 'QTDHFID', 'person 39': 'MLIFIDC', 'person 40': 'DQGDGHI', 'person 41': 'UMFCBFD', 'person 42': 'HDIBEBI', 'person 43': 'UVGBEFH', 'person 44': 'TZHIAHD', 'person 45': 'MSAEZZG', 'person 46': 'PWCDDBE', 'person 47': 'HHHIABI', 'person 48': 'OLDCAFD', 'person 49': 'JQFCCEZ', 'person 50': 'YDGIFBB', 'person 51': 'LGFEZHG', 'person 52': 'ATDBHDB', 'person 53': 'FOEDHCG', 'person 54': 'SIGFZFZ', 'person 55': 'DXBGCIC', 'person 56': 'JPIEHFD', 'person 57': 'HXEHCCC', 'person 58': 'HTEIGDH', 'person 59': 'CTBAGCD', 'person 60': 'SXHBDFH', 'person 61': 'CHIAZZI', 'person 62': 'YDGBDAB', 'person 63': 'BLCAIDF', 'person 64': 'HIFDIBD', 'person 65': 'OXHIDAF', 'person 66': 'JZEHGAI', 'person 67': 'RFDIFGH', 'person 68': 'CSBFCGG', 'person 69': 'HWFHEIF', 'person 70': 'MJGEIBD', 'person 71': 'SKHBDEH', 'person 72': 'YIBZEEE', 'person 73': 'ESBCIDG', 'person 74': 'MYCZBBC', 'person 75': 'CXHABBZ', 'person 76': 'BAFGZCE', 'person 77': 'SWADZGE', 'person 78': 'WSICFFF', 'person 79': 'TECAEAH', 'person 80': 'AZIACZZ', 'person 81': 'JHGCZIH', 'person 82': 'UTFZZBA', 'person 83': 'UUHBHGC', 'person 84': 'YWIEFBF', 'person 85': 'GECCCBB', 'person 86': 'HMGECFF', 'person 87': 'IOHGFEF', 'person 88': 'PZBGHHG', 'person 89': 'QYDDFED', 'person 90': 'SRBIEFA', 'person 91': 'AVDEDEG', 'person 92': 'JOIHCIA', 'person 93': 'KHHEGEI', 'person 94': 'DWICGAF', 'person 95': 'GCIGCDI', 'person 96': 'EGACEFB', 'person 97': 'QIEBGDH', 'person 98': 'VNABBEG', 'person 99': 'ODHCBCC'}\n"
     ]
    }
   ],
   "source": [
    "#this is for the second part to convert the ID:\n",
    "\n",
    "def convert_ids(x):\n",
    "    newid = x[0:2] # this takes the alphabetical part of the ID\n",
    "    for i in range(2, 7):\n",
    "        newid = newid + string.ascii_uppercase[int(x[i])-1] # we need -1 in order to tally(correspond) the alphabets index from 0 to 25\n",
    "    return newid\n",
    "\n",
    "for (k, v) in people_ids.items():\n",
    "    people_ids[k] = convert_ids(v)\n",
    "\n",
    "print(people_ids)"
   ]
  },
  {
   "cell_type": "code",
   "execution_count": null,
   "metadata": {},
   "outputs": [],
   "source": []
  }
 ],
 "metadata": {
  "kernelspec": {
   "display_name": "Python 3",
   "language": "python",
   "name": "python3"
  },
  "language_info": {
   "codemirror_mode": {
    "name": "ipython",
    "version": 3
   },
   "file_extension": ".py",
   "mimetype": "text/x-python",
   "name": "python",
   "nbconvert_exporter": "python",
   "pygments_lexer": "ipython3",
   "version": "3.7.7"
  }
 },
 "nbformat": 4,
 "nbformat_minor": 2
}
