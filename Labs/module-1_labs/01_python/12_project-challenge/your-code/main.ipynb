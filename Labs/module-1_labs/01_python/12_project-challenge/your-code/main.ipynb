{
 "cells": [
  {
   "cell_type": "markdown",
   "metadata": {},
   "source": [
    "## Challenge A: Password Validator\n",
    "\n",
    "#### Description\n",
    "Your job is to create a simple password validation function, as seen on many websites.\n",
    "\n",
    "The rules for a valid password are as follows:\n",
    "\n",
    "There needs to be at least 1 uppercase letter.\n",
    "There needs to be at least 1 lowercase letter.\n",
    "There needs to be at least 1 number.\n",
    "The password needs to be at least 8 characters long.\n",
    "\n",
    "*You are permitted to use any methods to validate the password.*"
   ]
  },
  {
   "cell_type": "code",
   "execution_count": 2,
   "metadata": {},
   "outputs": [],
   "source": [
    "import re"
   ]
  },
  {
   "cell_type": "code",
   "execution_count": 41,
   "metadata": {},
   "outputs": [],
   "source": [
    "def pass_check(x):\n",
    "\n",
    "    if re.findall(\"[a-z]\", x) == []:\n",
    "        print(\"Invalid, you need at least one lowercase letter\")\n",
    "    elif re.findall(\"[A-Z]\", x) == []:\n",
    "        print(\"the password must have one uppercase\")\n",
    "    elif re.findall('[0-9]', x) == []:\n",
    "        print(\"your password must have one number\")\n",
    "    elif len(x)<8:\n",
    "        print(\"minimum 8 characters\")\n",
    "    return True\n",
    "        \n"
   ]
  },
  {
   "cell_type": "code",
   "execution_count": 42,
   "metadata": {},
   "outputs": [
    {
     "name": "stdout",
     "output_type": "stream",
     "text": [
      "Please enter password ghftyruT5\n"
     ]
    },
    {
     "data": {
      "text/plain": [
       "True"
      ]
     },
     "execution_count": 42,
     "metadata": {},
     "output_type": "execute_result"
    }
   ],
   "source": [
    "x = input(\"Please enter password \")\n",
    "pass_check(x)"
   ]
  },
  {
   "cell_type": "code",
   "execution_count": 42,
   "metadata": {},
   "outputs": [
    {
     "name": "stdout",
     "output_type": "stream",
     "text": [
      "enter password: hgj\n",
      "password should be at least 8 characters\n",
      "password should have one digit\n",
      "password should have one uppercase\n",
      "password should have one special charactewr\n"
     ]
    }
   ],
   "source": [
    "# your code here\n",
    "\n",
    "#def password_check(pwd):\n",
    "pwd = input('enter password: ') \n",
    "\n",
    "special_sym = ['!', '@', '#', '$']\n",
    "\n",
    "if len(pwd) < 8:\n",
    "    print('password should be at least 8 characters')\n",
    "#val = False\n",
    "if not any(char.isdigit() for char in pwd): \n",
    "    print('password should have one digit')\n",
    "#val = False\n",
    "if not any(char.isupper() for char in pwd):\n",
    "    print('password should have one uppercase')\n",
    "#val = False\n",
    "if not any(char.islower() for char in pwd):\n",
    "    print('password should have one lowercase')\n",
    "#val = False\n",
    "if not any(char in special_sym for char in pwd):\n",
    "    print('password should have one special charactewr')\n",
    "#val =False \n",
    "#return False\n",
    "#else:\n",
    "#return True \n",
    "\n",
    "\n",
    "\n"
   ]
  },
  {
   "cell_type": "code",
   "execution_count": 44,
   "metadata": {},
   "outputs": [
    {
     "name": "stdout",
     "output_type": "stream",
     "text": [
      "enter password: Behrooz45\n"
     ]
    }
   ],
   "source": [
    "#Cristina helped to convert the programme above into a function:\n",
    "\n",
    "pwd = input('enter password: ') \n",
    "\n",
    "def validate(pwd):\n",
    "    if len(pwd) < 8:\n",
    "        print('password should be at least 8 characters')\n",
    "        return False\n",
    "    if not any(char.isdigit() for char in pwd): \n",
    "        print('password should have one digit')\n",
    "        return False\n",
    "    if not any(char.isupper() for char in pwd):\n",
    "        print('password should have one uppercase')\n",
    "        return False\n",
    "    if not any(char.islower() for char in pwd):\n",
    "        print('password should have one lowercase')\n",
    "        return False\n",
    "    if not any(char in special_sym for char in pwd):\n",
    "        print('password should have one special charactewr')\n",
    "        return False\n",
    "    return True\n"
   ]
  },
  {
   "cell_type": "code",
   "execution_count": 38,
   "metadata": {},
   "outputs": [],
   "source": [
    "# this is the solution of the above code by Cristina:\n",
    "# in a boolean True False, sum only sums the True elements: \n",
    "def validate(x):\n",
    "    if sum(list(map(str.isupper, x))) >=1: # this means at least one element is uppercase\n",
    "            if sum(list(map(str.islower, x))) >=1:\n",
    "                if sum(list(map(str.isnumeric, x))) >=1:\n",
    "                    if len(x) >= 8:\n",
    "                        print(\"thanks, all good\")\n",
    "                        return True\n",
    "    print(\"this password is not valid\") #\n",
    "    return False \n"
   ]
  },
  {
   "cell_type": "code",
   "execution_count": 39,
   "metadata": {},
   "outputs": [
    {
     "name": "stdout",
     "output_type": "stream",
     "text": [
      "enter password: hgyutyU8\n",
      "thanks, all good\n"
     ]
    },
    {
     "data": {
      "text/plain": [
       "True"
      ]
     },
     "execution_count": 39,
     "metadata": {},
     "output_type": "execute_result"
    }
   ],
   "source": [
    "pwd = input(\"enter password: \")\n",
    "validate(pwd)"
   ]
  },
  {
   "cell_type": "code",
   "execution_count": 45,
   "metadata": {},
   "outputs": [
    {
     "data": {
      "text/plain": [
       "2"
      ]
     },
     "execution_count": 45,
     "metadata": {},
     "output_type": "execute_result"
    }
   ],
   "source": [
    "# this is an example of true, false:\n",
    "x = [True, False, False, True]\n",
    "y = sum(x)\n",
    "y"
   ]
  },
  {
   "cell_type": "markdown",
   "metadata": {},
   "source": [
    "## Challenge B: Credit Card Validator\n",
    "\n",
    "#### Description\n",
    "\n",
    "Your task is to write a program which reads credit card number prints the validation result ‘Valid’ or ‘Invalid’.\n",
    "\n",
    "A valid credit card has following features:\n",
    "\n",
    "- It should start with 4, 5 or 6\n",
    "- It should have exactly 16 digits\n",
    "- It should only consist of digits (0-9)\n",
    "- It may have digits in groups of 4 and separated by one hyphen \"-\"\n",
    "- It should NOT use any other separator like ‘ ’,‘_’, etc.\n",
    "- It should NOT have 4 or more consecutive repeated digits\n",
    "\n",
    "Valid Credit Card Numbers:\n",
    "1. 4263525778615786\n",
    "2. 5535535535559555\n",
    "3. 6344-2389-7542-9163\n",
    "\n",
    "Invalid Credit Card Numbers:\n",
    "1. 42536258796157867       \n",
    "2. 66266666626662666       \n",
    "3. 5122-2368-7954 -3214   \n",
    "4. 44244x4424442444       \n",
    "5. 0525362587961578"
   ]
  },
  {
   "cell_type": "code",
   "execution_count": 81,
   "metadata": {},
   "outputs": [
    {
     "name": "stdout",
     "output_type": "stream",
     "text": [
      "enter you card no 4234-5678-7665-4\n",
      "enter only numbers\n"
     ]
    }
   ],
   "source": [
    "cc = input(\"enter you card no \")\n",
    "if cc.startswith(('4', '5', '6'), 0) is False:\n",
    "    print(\"use, 4, 5, 6\")\n",
    "elif len(cc) != 16:\n",
    "    print(\"invalid, please enter 16 digits\")\n",
    "elif cc.isdigit() == False:\n",
    "    print(\"enter only numbers\")\n",
    "    \n"
   ]
  },
  {
   "cell_type": "code",
   "execution_count": 85,
   "metadata": {},
   "outputs": [
    {
     "name": "stdout",
     "output_type": "stream",
     "text": [
      "enter your card no6534342\n",
      "6534342\n"
     ]
    },
    {
     "data": {
      "text/plain": [
       "'4'"
      ]
     },
     "execution_count": 85,
     "metadata": {},
     "output_type": "execute_result"
    }
   ],
   "source": [
    "cc = input(\"enter your card no\")\n",
    "print(cc)\n",
    "type(cc)\n",
    "cc[3]"
   ]
  },
  {
   "cell_type": "code",
   "execution_count": null,
   "metadata": {},
   "outputs": [],
   "source": [
    "ss =['6785-4536-4235']"
   ]
  },
  {
   "cell_type": "code",
   "execution_count": 2,
   "metadata": {},
   "outputs": [],
   "source": [
    "# your code here \n",
    "#  input returns a string always\n",
    "#\\W returns non-numeric values\n",
    "def validate_cc(x):\n",
    "    if( [0] in ('4', '5', '6')) & (len(x.replace('-', ''))==16), )\n",
    "    "
   ]
  },
  {
   "cell_type": "markdown",
   "metadata": {},
   "source": [
    "## Challenge C: Multiplication Table\n",
    "\n",
    "#### Description\n",
    "    \n",
    "Your task, is to create a function which returns a **NxN multiplication table**, of size N provided as a function argument.\n",
    "\n",
    "for example, when given size is 3:\n",
    "\n",
    "1 2 3\n",
    "\n",
    "2 4 6\n",
    "\n",
    "3 6 9\n",
    "\n",
    "So for the given example, the return value should be: [[1,2,3],[2,4,6],[3,6,9]]"
   ]
  },
  {
   "cell_type": "code",
   "execution_count": 74,
   "metadata": {},
   "outputs": [
    {
     "ename": "SyntaxError",
     "evalue": "can't assign to operator (<ipython-input-74-64e5e1962499>, line 6)",
     "output_type": "error",
     "traceback": [
      "\u001b[1;36m  File \u001b[1;32m\"<ipython-input-74-64e5e1962499>\"\u001b[1;36m, line \u001b[1;32m6\u001b[0m\n\u001b[1;33m    test = (row*col), end=\"\\t\"\u001b[0m\n\u001b[1;37m          ^\u001b[0m\n\u001b[1;31mSyntaxError\u001b[0m\u001b[1;31m:\u001b[0m can't assign to operator\n"
     ]
    }
   ],
   "source": [
    "#this creates a range of multiplied numbers:\n",
    "    \n",
    "def mul_table(tlb):\n",
    "    for row in range(1,tlb+1):\n",
    "        for col in range(1,tlb+1):\n",
    "            test = row*col, end=\"\\t\"\n",
    "\n",
    "mul_table(5)\n",
    "\n",
    "# to make the table a list:\n",
    "\n",
    "\n"
   ]
  },
  {
   "cell_type": "code",
   "execution_count": null,
   "metadata": {},
   "outputs": [],
   "source": [
    "# this is by Cristina to create the table:\n",
    "\n",
    "def multable(x):\n",
    "    import numpy as np\n",
    "    x = int(x)\n",
    "    y = np.ones((x,x))\n",
    "    "
   ]
  },
  {
   "cell_type": "code",
   "execution_count": null,
   "metadata": {},
   "outputs": [],
   "source": [
    "#this is how to ask for input:\n",
    "#n = input('enter your password')"
   ]
  },
  {
   "cell_type": "markdown",
   "metadata": {},
   "source": [
    "## Challenge D: ID Assignment\n",
    "\n",
    "#### Description\n",
    "\n",
    "a) You work in a company with 100 people - to start, please create a list of people ranging from Person 1 to Person 100. For company purposes, each of these people is identified with a Personal ID, which is a combination of 2 uppercase letters and a random number of 5 digits. For each person, generate a random ID, and store it in a dictionary alongside their name (for example ('Person 5': 'AB73648')). Then sort the dictionary according to the values of their Personal IDs.\n",
    "\n",
    "b) One month later, your company changes the ID format for every employee - from now on, every person will have an ID that consists of only letters. In order to convert them, every number in the employee ID should be replaced by the corresponding uppercase letter in the alphabeth. Please write a function that accomplishes this change and apply it to the dictionary."
   ]
  },
  {
   "cell_type": "code",
   "execution_count": 95,
   "metadata": {},
   "outputs": [],
   "source": [
    "# your code here\n",
    "\n",
    "person_fn = lambda x:  \"person \" + str(x)\n",
    "list_person = [person_fn(x) for x in range(101)]\n",
    "#print(list_person)\n",
    "\n",
    "# now we need to create the random 5 digits:\n",
    "import random\n",
    "mynum = list(random.sample(range(10000, 99999), 100))\n",
    "\n",
    "import string\n",
    "abc = string.ascii_uppercase #this generates uppercase 26 alphabets\n",
    "\n",
    "abc1 = [i for i in abc]\n",
    "\n",
    "def double_letter(x):\n",
    "    return random.choice(x)+random.choice(x)\n",
    "\n",
    "letter_list= []\n",
    "while len(letter_list)<100: \n",
    "    letter_list.append(double_letter(abc1))\n",
    "\n",
    "\n",
    "mynum1 = str(mynum)\n",
    "mynum2 = list(map(str, mynum)) # now each number is a string\n",
    "\n",
    "comb_list = [a + b for a, b in zip(letter_list, mynum2)] # combine letters and numbers\n",
    "\n",
    "people_ids = dict(zip(list_person, comb_list)) # this is a dictionary of IDs\n",
    "#print(people_ids)"
   ]
  },
  {
   "cell_type": "code",
   "execution_count": null,
   "metadata": {},
   "outputs": [],
   "source": []
  },
  {
   "cell_type": "code",
   "execution_count": 96,
   "metadata": {},
   "outputs": [
    {
     "name": "stdout",
     "output_type": "stream",
     "text": [
      "{'person 0': 'PODZCDG', 'person 1': 'XGHDCEE', 'person 2': 'FXAEHGD', 'person 3': 'JEIFAEZ', 'person 4': 'JQCDCIZ', 'person 5': 'QKIFDDF', 'person 6': 'TUHEIHB', 'person 7': 'AUDFFCC', 'person 8': 'RPAHDZB', 'person 9': 'GNECGEE', 'person 10': 'ZNIGDEZ', 'person 11': 'JVHAFEI', 'person 12': 'MNEAHZG', 'person 13': 'KZHBFDF', 'person 14': 'SSFFAFA', 'person 15': 'NQEIFDZ', 'person 16': 'PUEFCII', 'person 17': 'OHFIADB', 'person 18': 'YZGGDAC', 'person 19': 'TYBICEC', 'person 20': 'BIDDIIC', 'person 21': 'UPBGBFH', 'person 22': 'AHECIFC', 'person 23': 'GVGDIHB', 'person 24': 'CQIZAZZ', 'person 25': 'HDGIIFC', 'person 26': 'USAAACZ', 'person 27': 'AWDADFI', 'person 28': 'WUICHAG', 'person 29': 'SLICFHF', 'person 30': 'WACGBBC', 'person 31': 'GOAZGBD', 'person 32': 'VUCCDDA', 'person 33': 'EKIBEBI', 'person 34': 'XFHHEZZ', 'person 35': 'LNBBGID', 'person 36': 'QNGEFAZ', 'person 37': 'DCFGBAF', 'person 38': 'JFIZFDG', 'person 39': 'MUFCDFB', 'person 40': 'RGCDFED', 'person 41': 'AZDIDIZ', 'person 42': 'AUFAFHC', 'person 43': 'SHIICFB', 'person 44': 'JKAAFBA', 'person 45': 'TFAHIEB', 'person 46': 'TDIBGII', 'person 47': 'JYCGDEZ', 'person 48': 'VGFDEBC', 'person 49': 'YDBHZHG', 'person 50': 'DJGDCZB', 'person 51': 'XACFEZE', 'person 52': 'SZFEIHE', 'person 53': 'ZRHAIDD', 'person 54': 'HZICACC', 'person 55': 'TODZZAF', 'person 56': 'LUCCZHH', 'person 57': 'XAAZFCE', 'person 58': 'LDBZGIF', 'person 59': 'PNGBZBB', 'person 60': 'TTEDAFC', 'person 61': 'AXFDAEZ', 'person 62': 'SAADCAE', 'person 63': 'ODDGZDG', 'person 64': 'KHDZCHA', 'person 65': 'IBHFDEB', 'person 66': 'DQFFEHD', 'person 67': 'VXADCCE', 'person 68': 'RAHGICF', 'person 69': 'UCDAICH', 'person 70': 'ZYGCCFF', 'person 71': 'QCDEBEF', 'person 72': 'BHFAHHH', 'person 73': 'GSGCCHI', 'person 74': 'IEDGBED', 'person 75': 'SDIZGDH', 'person 76': 'PLBBDID', 'person 77': 'GMCCAAE', 'person 78': 'KDDCBCG', 'person 79': 'GIBADID', 'person 80': 'PNEIGZE', 'person 81': 'AMGCBDE', 'person 82': 'PMDGFEF', 'person 83': 'VEDIAGH', 'person 84': 'OOBEIII', 'person 85': 'MCDIEAE', 'person 86': 'WQCCAAH', 'person 87': 'QYAIFEZ', 'person 88': 'BBIFGDG', 'person 89': 'SHBBFIA', 'person 90': 'JRCEBHH', 'person 91': 'UZDGDEZ', 'person 92': 'AVCCBAC', 'person 93': 'BJGZEDG', 'person 94': 'SEGFCHD', 'person 95': 'BPICDHG', 'person 96': 'NXDAHGB', 'person 97': 'GHIHFAE', 'person 98': 'WMIBZCG', 'person 99': 'DUIAGEB'}\n"
     ]
    }
   ],
   "source": [
    "#this is for the second part to convert the ID:\n",
    "\n",
    "def convert_ids(x):\n",
    "    newid = x[0:2] # this takes the alphabetical part of the ID\n",
    "    for i in range(2, 7):\n",
    "        newid = newid + string.ascii_uppercase[int(x[i])-1] # we need -1 in order to tally(correspond) the alphabets index from 0 to 25\n",
    "    return newid\n",
    "\n",
    "for (k, v) in people_ids.items():\n",
    "    people_ids[k] = convert_ids(v)\n",
    "\n",
    "print(people_ids)"
   ]
  },
  {
   "cell_type": "code",
   "execution_count": null,
   "metadata": {},
   "outputs": [],
   "source": []
  }
 ],
 "metadata": {
  "kernelspec": {
   "display_name": "Python 3",
   "language": "python",
   "name": "python3"
  },
  "language_info": {
   "codemirror_mode": {
    "name": "ipython",
    "version": 3
   },
   "file_extension": ".py",
   "mimetype": "text/x-python",
   "name": "python",
   "nbconvert_exporter": "python",
   "pygments_lexer": "ipython3",
   "version": "3.7.7"
  }
 },
 "nbformat": 4,
 "nbformat_minor": 2
}
