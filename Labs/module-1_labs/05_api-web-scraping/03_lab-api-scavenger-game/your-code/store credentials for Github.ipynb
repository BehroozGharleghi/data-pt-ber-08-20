{
 "cells": [
  {
   "cell_type": "code",
   "execution_count": 10,
   "metadata": {},
   "outputs": [],
   "source": [
    "import json\n",
    "import requests\n",
    "import pandas as pd"
   ]
  },
  {
   "cell_type": "code",
   "execution_count": 11,
   "metadata": {},
   "outputs": [],
   "source": [
    "# Create variables which contain your user name and your token\n",
    "# in order for github not to revoke my access:\n",
    "\n"
   ]
  },
  {
   "cell_type": "code",
   "execution_count": 12,
   "metadata": {},
   "outputs": [
    {
     "name": "stdout",
     "output_type": "stream",
     "text": [
      "{'username': 'BehroozGharleghi', 'token': 'ca4c0e1f718637777c3bc1fa3a50ff2d4f230556'}\n"
     ]
    }
   ],
   "source": [
    "# this is to create a file that stores the above credentials  forever, so that we do not need to always copy paste \n",
    "#the credentials, but there should be a way that we can call the file once we open jupyter later??\n",
    "import json\n",
    "\n",
    "cred = {}\n",
    "cred['username'] = username\n",
    "cred['token'] = token\n",
    "print(cred)\n",
    "\n",
    "with open('github_credentials.json', 'w') as outfile:\n",
    "    json.dump(cred, outfile)"
   ]
  },
  {
   "cell_type": "code",
   "execution_count": null,
   "metadata": {},
   "outputs": [],
   "source": []
  }
 ],
 "metadata": {
  "kernelspec": {
   "display_name": "Python 3",
   "language": "python",
   "name": "python3"
  },
  "language_info": {
   "codemirror_mode": {
    "name": "ipython",
    "version": 3
   },
   "file_extension": ".py",
   "mimetype": "text/x-python",
   "name": "python",
   "nbconvert_exporter": "python",
   "pygments_lexer": "ipython3",
   "version": "3.8.5"
  }
 },
 "nbformat": 4,
 "nbformat_minor": 2
}
