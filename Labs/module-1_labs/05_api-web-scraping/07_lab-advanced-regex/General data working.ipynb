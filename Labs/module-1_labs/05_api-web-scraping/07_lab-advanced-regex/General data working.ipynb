{
 "cells": [
  {
   "cell_type": "code",
   "execution_count": 1,
   "metadata": {},
   "outputs": [],
   "source": [
    "# Advanced Regex:\n",
    "\n",
    "# regular expressions help us find the pattern in texts:\n",
    "# re are uselful for web scaping\n",
    "import re"
   ]
  },
  {
   "cell_type": "code",
   "execution_count": 2,
   "metadata": {},
   "outputs": [],
   "source": [
    "text = \"that dog is very fluffy\"\n"
   ]
  },
  {
   "cell_type": "code",
   "execution_count": 3,
   "metadata": {},
   "outputs": [
    {
     "data": {
      "text/plain": [
       "['f', 'f', 'f']"
      ]
     },
     "execution_count": 3,
     "metadata": {},
     "output_type": "execute_result"
    }
   ],
   "source": [
    "pattern = 'f'\n",
    "re.findall(pattern, text)\n",
    "# find all will give everything"
   ]
  },
  {
   "cell_type": "code",
   "execution_count": 8,
   "metadata": {},
   "outputs": [
    {
     "data": {
      "text/plain": [
       "<re.Match object; span=(17, 18), match='f'>"
      ]
     },
     "execution_count": 8,
     "metadata": {},
     "output_type": "execute_result"
    }
   ],
   "source": [
    "#here is search:\n",
    "re.search(pattern, text)\n"
   ]
  },
  {
   "cell_type": "code",
   "execution_count": 13,
   "metadata": {},
   "outputs": [],
   "source": [
    "#match looks at athe begining of the text:\n",
    "re.match('f', text)\n"
   ]
  },
  {
   "cell_type": "code",
   "execution_count": 14,
   "metadata": {},
   "outputs": [
    {
     "data": {
      "text/plain": [
       "<re.Match object; span=(0, 4), match='that'>"
      ]
     },
     "execution_count": 14,
     "metadata": {},
     "output_type": "execute_result"
    }
   ],
   "source": [
    "re.match('that', text)\n"
   ]
  },
  {
   "cell_type": "code",
   "execution_count": 18,
   "metadata": {},
   "outputs": [
    {
     "data": {
      "text/plain": [
       "<re.Match object; span=(0, 1), match='t'>"
      ]
     },
     "execution_count": 18,
     "metadata": {},
     "output_type": "execute_result"
    }
   ],
   "source": [
    "# if my text starts with capital letter:\\\n",
    "re.match('[a-z]', text)\n"
   ]
  },
  {
   "cell_type": "code",
   "execution_count": 21,
   "metadata": {},
   "outputs": [
    {
     "data": {
      "text/plain": [
       "['f', 'u', 'f', 'f']"
      ]
     },
     "execution_count": 21,
     "metadata": {},
     "output_type": "execute_result"
    }
   ],
   "source": [
    "pattern = '[uf]'\n",
    "re.findall(pattern, text)"
   ]
  },
  {
   "cell_type": "code",
   "execution_count": 27,
   "metadata": {},
   "outputs": [],
   "source": [
    "text2 = \"Is it spelled gray or grey or gruy?\""
   ]
  },
  {
   "cell_type": "code",
   "execution_count": 28,
   "metadata": {},
   "outputs": [
    {
     "data": {
      "text/plain": [
       "['gray', 'grey', 'gruy']"
      ]
     },
     "execution_count": 28,
     "metadata": {},
     "output_type": "execute_result"
    }
   ],
   "source": [
    "pattern = 'gr[aeu]y'\n",
    "re.findall(pattern, text2)"
   ]
  },
  {
   "cell_type": "code",
   "execution_count": 30,
   "metadata": {},
   "outputs": [
    {
     "data": {
      "text/plain": [
       "['A', 'B', 'C']"
      ]
     },
     "execution_count": 30,
     "metadata": {},
     "output_type": "execute_result"
    }
   ],
   "source": [
    "text3 = \"This is an A and B conversation, so C your way out of it you D!.\"\n",
    "# we only need A and B:\n",
    "re.findall('[ABC]', text3)\n",
    "#or\n",
    "re.findall('[A-C]', text3)"
   ]
  },
  {
   "cell_type": "code",
   "execution_count": 31,
   "metadata": {},
   "outputs": [
    {
     "name": "stdout",
     "output_type": "stream",
     "text": [
      "['T', 'h', 'a', 't', ' ', 'd', 'o', 'g', ' ', 'i', 's', ' ', 'v', 'e', 'r', 'y', ' ', 'f', 'l', 'u', 'f', 'f', 'y']\n"
     ]
    }
   ],
   "source": [
    "# match any character except newline \\n:\n",
    "text = \"That dog is very fluffy\"\n",
    "pattern = '.'\n",
    "print(re.findall(pattern, text))\n"
   ]
  },
  {
   "cell_type": "code",
   "execution_count": 34,
   "metadata": {},
   "outputs": [
    {
     "name": "stdout",
     "output_type": "stream",
     "text": [
      "That dog is very fluffy. \n",
      "It has also floppy ears.\n"
     ]
    }
   ],
   "source": [
    "#text 4= \"That dog is very fluffy. It has also floppy ears.\"\n",
    "# how can i make a line break:\n",
    "text4 = \"That dog is very fluffy. \\nIt has also floppy ears.\"\n",
    "print(text4)"
   ]
  },
  {
   "cell_type": "code",
   "execution_count": 36,
   "metadata": {},
   "outputs": [
    {
     "name": "stdout",
     "output_type": "stream",
     "text": [
      "['T', 'h', 'a', 't', ' ', 'd', 'o', 'g', ' ', 'i', 's', ' ', 'v', 'e', 'r', 'y', ' ', 'f', 'l', 'u', 'f', 'f', 'y', '.', ' ', 'I', 't', ' ', 'h', 'a', 's', ' ', 'a', 'l', 's', 'o', ' ', 'f', 'l', 'o', 'p', 'p', 'y', ' ', 'e', 'a', 'r', 's', '.']\n"
     ]
    }
   ],
   "source": [
    "text4 = \"That dog is very fluffy. \\nIt has also floppy ears.\"\n",
    "pattern = '.'\n",
    "print(re.findall(pattern, text4))"
   ]
  },
  {
   "cell_type": "code",
   "execution_count": 37,
   "metadata": {},
   "outputs": [
    {
     "name": "stdout",
     "output_type": "stream",
     "text": [
      "['T', 'a', ' ', ' ', ' ', ' ', '.', ' ', '\\n', 'I', ' ', 'a', ' ', 'a', ' ', ' ', 'a', '.']\n"
     ]
    }
   ],
   "source": [
    "#this match everything except d-z:\n",
    "text5 = \"That dog is very fluffy. \\nIt has also floppy ears.\"\n",
    "\n",
    "pattern = '[^d-z]'\n",
    "print(re.findall(pattern, text5))"
   ]
  },
  {
   "cell_type": "code",
   "execution_count": 39,
   "metadata": {},
   "outputs": [
    {
     "name": "stdout",
     "output_type": "stream",
     "text": [
      "['T', '.', '\\n', 'I', '.']\n"
     ]
    }
   ],
   "source": [
    "# this finds everything in the text except of these characters:\n",
    "pattern = '[^a-z0-9! ]'\n",
    "print(re.findall(pattern, text5))"
   ]
  },
  {
   "cell_type": "code",
   "execution_count": 40,
   "metadata": {},
   "outputs": [
    {
     "name": "stdout",
     "output_type": "stream",
     "text": [
      "[]\n"
     ]
    }
   ],
   "source": [
    "#when the ^ is not in square bracket, it will chek the beginning of the line: \n",
    "pattern = '^fluffy'\n",
    "print(re.findall(pattern, text5))"
   ]
  },
  {
   "cell_type": "code",
   "execution_count": 43,
   "metadata": {},
   "outputs": [
    {
     "name": "stdout",
     "output_type": "stream",
     "text": [
      "['ears.']\n"
     ]
    }
   ],
   "source": [
    "# match text at the end of the line:\n",
    "\n",
    "pattern = 'ears.$'\n",
    "print(re.findall(pattern, text5))"
   ]
  },
  {
   "cell_type": "code",
   "execution_count": 45,
   "metadata": {},
   "outputs": [
    {
     "name": "stdout",
     "output_type": "stream",
     "text": [
      "['dog', 'fluffy']\n"
     ]
    }
   ],
   "source": [
    "# | function as an \"OR\" oprator:\n",
    "pattern = 'fluffy|dog'\n",
    "print(re.findall(pattern, texft5))"
   ]
  },
  {
   "cell_type": "code",
   "execution_count": 46,
   "metadata": {},
   "outputs": [
    {
     "data": {
      "text/plain": [
       "['og', 'dog', 'dddog', 'og', 'ddog', 'dog']"
      ]
     },
     "execution_count": 46,
     "metadata": {},
     "output_type": "execute_result"
    }
   ],
   "source": [
    "\n",
    "# * matched previous character zero or more times\n",
    "dogtext = \"og dog dddog doooogg ddogggg dag dog\"\n",
    "pattern = 'd*og'\n",
    "re.findall(pattern, dogtext)"
   ]
  },
  {
   "cell_type": "code",
   "execution_count": 47,
   "metadata": {},
   "outputs": [
    {
     "data": {
      "text/plain": [
       "['dog', 'dog', 'doooog', 'dog', 'dog']"
      ]
     },
     "execution_count": 47,
     "metadata": {},
     "output_type": "execute_result"
    }
   ],
   "source": [
    "pattern = 'do*g'\n",
    "re.findall(pattern, dogtext)"
   ]
  },
  {
   "cell_type": "code",
   "execution_count": null,
   "metadata": {},
   "outputs": [],
   "source": [
    "# + matches previous character 1 or more times\n",
    "pattern = 'd+og'\n",
    "re.findall(pattern, dogtext)"
   ]
  },
  {
   "cell_type": "code",
   "execution_count": 54,
   "metadata": {},
   "outputs": [
    {
     "name": "stdout",
     "output_type": "stream",
     "text": [
      "['Every', 'cat', 'has', 'nine', 'lives']\n",
      "['Every', '', 'cat', '', 'has', '', 'nine', '', 'lives', '', '']\n"
     ]
    }
   ],
   "source": [
    "# challenge: return every word of the text below:\n",
    "# \\w matches any alphanumeric character (anything within alphabet and 0-9)\n",
    "cattext = 'Every cat has nine lives.'\n",
    "print(re.findall('\\w+', cattext))\n",
    "print(re.findall('\\w*', cattext))\n"
   ]
  },
  {
   "cell_type": "code",
   "execution_count": 55,
   "metadata": {},
   "outputs": [
    {
     "name": "stdout",
     "output_type": "stream",
     "text": [
      "['dddog', 'ddog']\n"
     ]
    }
   ],
   "source": [
    "#{num1,num2} matches previous character num1 & num2 times\n",
    "pattern = 'd{2,3}og'\n",
    "print(re.findall(pattern, dogtext))"
   ]
  },
  {
   "cell_type": "code",
   "execution_count": 56,
   "metadata": {},
   "outputs": [
    {
     "name": "stdout",
     "output_type": "stream",
     "text": [
      "['Every', 'nine', 'lives']\n"
     ]
    }
   ],
   "source": [
    "#. extract only words that has at leats 4 letters form cattext:\n",
    "print(re.findall('\\w{4,}', cattext))\n"
   ]
  },
  {
   "cell_type": "code",
   "execution_count": 62,
   "metadata": {},
   "outputs": [
    {
     "name": "stdout",
     "output_type": "stream",
     "text": [
      "['800-237-6639', '888-247-2262', '888-247-2262', '800-567-6567', '800-361-2965', '800-661-0407']\n"
     ]
    }
   ],
   "source": [
    "# \\d will find any numeric character:\n",
    "# lets get the phone numbers form a text\n",
    "text = '''\n",
    "Aeromexico 800-237-6639\n",
    "Air Canada 888-247-2262\n",
    "Air Canada Rouge 888-247-2262\n",
    "Air Creebec 800-567-6567\n",
    "Air Inuit 800-361-2965\n",
    "Air North 800-661-0407\n",
    "'''\n",
    "\n",
    "print(re.findall('\\d+-\\d+-\\d+', text))\n"
   ]
  },
  {
   "cell_type": "code",
   "execution_count": null,
   "metadata": {},
   "outputs": [],
   "source": []
  }
 ],
 "metadata": {
  "kernelspec": {
   "display_name": "Python 3",
   "language": "python",
   "name": "python3"
  },
  "language_info": {
   "codemirror_mode": {
    "name": "ipython",
    "version": 3
   },
   "file_extension": ".py",
   "mimetype": "text/x-python",
   "name": "python",
   "nbconvert_exporter": "python",
   "pygments_lexer": "ipython3",
   "version": "3.8.5"
  }
 },
 "nbformat": 4,
 "nbformat_minor": 4
}
