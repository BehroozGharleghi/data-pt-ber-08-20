{
 "cells": [
  {
   "cell_type": "markdown",
   "metadata": {},
   "source": [
    "# Working with Numpy\n",
    "\n",
    "Numpy is the numerical python package, with a lot of mathematical capabilities. Before we can use it, we need to first import the package. We will import it under the name np such that we can afterwards refer to it by this short name."
   ]
  },
  {
   "cell_type": "code",
   "execution_count": 5,
   "metadata": {},
   "outputs": [],
   "source": [
    "import numpy"
   ]
  },
  {
   "cell_type": "code",
   "execution_count": 6,
   "metadata": {},
   "outputs": [],
   "source": [
    "import numpy as np"
   ]
  },
  {
   "cell_type": "code",
   "execution_count": 4,
   "metadata": {},
   "outputs": [],
   "source": [
    "a = np.random.random((2,3))"
   ]
  },
  {
   "cell_type": "code",
   "execution_count": 5,
   "metadata": {},
   "outputs": [
    {
     "name": "stdout",
     "output_type": "stream",
     "text": [
      "Help on built-in function random:\n",
      "\n",
      "random(...) method of numpy.random.mtrand.RandomState instance\n",
      "    random(size=None)\n",
      "    \n",
      "    Return random floats in the half-open interval [0.0, 1.0). Alias for\n",
      "    `random_sample` to ease forward-porting to the new random API.\n",
      "\n"
     ]
    }
   ],
   "source": [
    "help(np.random.random)"
   ]
  },
  {
   "cell_type": "code",
   "execution_count": 6,
   "metadata": {},
   "outputs": [
    {
     "data": {
      "text/plain": [
       "(2, 3)"
      ]
     },
     "execution_count": 6,
     "metadata": {},
     "output_type": "execute_result"
    }
   ],
   "source": [
    "a.shape"
   ]
  },
  {
   "cell_type": "code",
   "execution_count": 7,
   "metadata": {},
   "outputs": [
    {
     "data": {
      "text/plain": [
       "array([[0.0098168 , 0.42429746, 0.20364204],\n",
       "       [0.64746523, 0.50448007, 0.73197769]])"
      ]
     },
     "execution_count": 7,
     "metadata": {},
     "output_type": "execute_result"
    }
   ],
   "source": [
    "a"
   ]
  },
  {
   "cell_type": "code",
   "execution_count": 8,
   "metadata": {},
   "outputs": [
    {
     "data": {
      "text/plain": [
       "6"
      ]
     },
     "execution_count": 8,
     "metadata": {},
     "output_type": "execute_result"
    }
   ],
   "source": [
    "a.size"
   ]
  },
  {
   "cell_type": "code",
   "execution_count": 9,
   "metadata": {},
   "outputs": [
    {
     "data": {
      "text/plain": [
       "0.6474652271541338"
      ]
     },
     "execution_count": 9,
     "metadata": {},
     "output_type": "execute_result"
    }
   ],
   "source": [
    "# to access elemnts of a\n",
    "a[1,0]"
   ]
  },
  {
   "cell_type": "code",
   "execution_count": 10,
   "metadata": {},
   "outputs": [
    {
     "data": {
      "text/plain": [
       "array([0.0098168 , 0.42429746, 0.20364204])"
      ]
     },
     "execution_count": 10,
     "metadata": {},
     "output_type": "execute_result"
    }
   ],
   "source": [
    "#to access the whole first rwa\n",
    "a[0]"
   ]
  },
  {
   "cell_type": "code",
   "execution_count": 11,
   "metadata": {},
   "outputs": [
    {
     "data": {
      "text/plain": [
       "array([0.0098168 , 0.64746523])"
      ]
     },
     "execution_count": 11,
     "metadata": {},
     "output_type": "execute_result"
    }
   ],
   "source": [
    "# to access the entire first coloumn\n",
    "a[:,0]"
   ]
  },
  {
   "cell_type": "code",
   "execution_count": 12,
   "metadata": {},
   "outputs": [
    {
     "data": {
      "text/plain": [
       "array([0.0098168 , 0.42429746, 0.20364204])"
      ]
     },
     "execution_count": 12,
     "metadata": {},
     "output_type": "execute_result"
    }
   ],
   "source": [
    "# to access the entire first raw\n",
    "\n",
    "a[0,:]"
   ]
  },
  {
   "cell_type": "code",
   "execution_count": 13,
   "metadata": {},
   "outputs": [],
   "source": [
    "b = np.random.random((2,3, 5))"
   ]
  },
  {
   "cell_type": "code",
   "execution_count": 14,
   "metadata": {},
   "outputs": [
    {
     "data": {
      "text/plain": [
       "array([[[0.4651991 , 0.00732707, 0.91851408, 0.97432991, 0.12523771],\n",
       "        [0.77239414, 0.40108134, 0.42733518, 0.18379675, 0.00656287],\n",
       "        [0.3325594 , 0.29343531, 0.72780907, 0.41633669, 0.70881967]],\n",
       "\n",
       "       [[0.45006203, 0.54662887, 0.39800787, 0.63203104, 0.22248475],\n",
       "        [0.49938462, 0.04427604, 0.07619448, 0.7872718 , 0.12333168],\n",
       "        [0.15678856, 0.94600203, 0.75110934, 0.60193699, 0.18783738]]])"
      ]
     },
     "execution_count": 14,
     "metadata": {},
     "output_type": "execute_result"
    }
   ],
   "source": [
    "b"
   ]
  },
  {
   "cell_type": "code",
   "execution_count": 15,
   "metadata": {},
   "outputs": [
    {
     "data": {
      "text/plain": [
       "array([0.3325594 , 0.29343531, 0.72780907, 0.41633669, 0.70881967])"
      ]
     },
     "execution_count": 15,
     "metadata": {},
     "output_type": "execute_result"
    }
   ],
   "source": [
    "b[0,2,:] # 3rd raw of first matrix"
   ]
  },
  {
   "cell_type": "code",
   "execution_count": 16,
   "metadata": {},
   "outputs": [
    {
     "data": {
      "text/plain": [
       "array([0.91851408, 0.42733518, 0.72780907])"
      ]
     },
     "execution_count": 16,
     "metadata": {},
     "output_type": "execute_result"
    }
   ],
   "source": [
    "b[0,:,2]# the third column of first matrix"
   ]
  },
  {
   "cell_type": "code",
   "execution_count": 24,
   "metadata": {},
   "outputs": [
    {
     "name": "stdout",
     "output_type": "stream",
     "text": [
      "[[0.31448692 0.53830833 0.67176334 0.06951106]\n",
      " [0.871173   0.76733354 0.85089922 0.01135776]\n",
      " [0.57041817 0.29744204 0.4729963  0.42571086]]\n",
      "[[0.75164473 0.02963557 0.84057472 0.03295919]\n",
      " [0.4892179  0.50068081 0.83460754 0.73458675]\n",
      " [0.89430834 0.48959593 0.17247899 0.72688564]]\n"
     ]
    }
   ],
   "source": [
    "first = np.random.random((3, 4))\n",
    "second = np.random.random((3, 4))\n",
    "print (first)\n",
    "print(second)"
   ]
  },
  {
   "cell_type": "code",
   "execution_count": 25,
   "metadata": {},
   "outputs": [
    {
     "name": "stdout",
     "output_type": "stream",
     "text": [
      "[[1.06613165 0.5679439  1.51233806 0.10247025]\n",
      " [1.36039089 1.26801434 1.68550676 0.74594451]\n",
      " [1.46472651 0.78703797 0.6454753  1.1525965 ]]\n"
     ]
    }
   ],
   "source": [
    "# to sum values: it only adds the same size matrixes\n",
    "sum1 = np.add(first, second)\n",
    "print(sum1)"
   ]
  },
  {
   "cell_type": "code",
   "execution_count": 31,
   "metadata": {},
   "outputs": [
    {
     "name": "stdout",
     "output_type": "stream",
     "text": [
      "[[0.23638244 0.01595307 0.56466728 0.00229103]\n",
      " [0.42619342 0.38418918 0.7101669  0.00834326]\n",
      " [0.51012973 0.14562641 0.08158193 0.30944311]]\n"
     ]
    }
   ],
   "source": [
    "multi1 = np.multiply(first, second)\n",
    "print(multi1)"
   ]
  },
  {
   "cell_type": "code",
   "execution_count": 22,
   "metadata": {},
   "outputs": [
    {
     "data": {
      "text/plain": [
       "array([[6.73083001, 8.82238024, 3.32164366, 9.65676234],\n",
       "       [8.31440671, 2.5950162 , 2.39983959, 4.10877749],\n",
       "       [4.08840658, 9.4361885 , 4.83437289, 0.95752049]])"
      ]
     },
     "execution_count": 22,
     "metadata": {},
     "output_type": "execute_result"
    }
   ],
   "source": [
    "test = np.random.random((3, 4)) * 10 #(it multiplies each outcome of the matrix by 10)\n",
    "test"
   ]
  },
  {
   "cell_type": "code",
   "execution_count": null,
   "metadata": {},
   "outputs": [],
   "source": []
  },
  {
   "cell_type": "code",
   "execution_count": 2,
   "metadata": {},
   "outputs": [],
   "source": [
    "# your code here\n"
   ]
  },
  {
   "cell_type": "markdown",
   "metadata": {},
   "source": [
    "In the cell below, generate two 2x3 array with all elements equal to 1 - assign one of the arrays to the variable a and the other one to b. Add the two arrays. What do you get?"
   ]
  },
  {
   "cell_type": "code",
   "execution_count": 9,
   "metadata": {},
   "outputs": [
    {
     "name": "stdout",
     "output_type": "stream",
     "text": [
      "[[1 1 1]\n",
      " [1 1 1]]\n",
      "[[1 1 1]\n",
      " [1 1 1]]\n"
     ]
    }
   ],
   "source": [
    "# your code here\n",
    "a = [[1, 1, 1],[1, 1, 1] ]\n",
    "a = np.array(a)\n",
    "print (a)\n",
    "\n",
    "b = [[1, 1, 1],[1, 1, 1] ]\n",
    "b = np.array(b)\n",
    "print (b)"
   ]
  },
  {
   "cell_type": "markdown",
   "metadata": {},
   "source": [
    "Now generate another array c which is a 3x2 array with all elements equal to 1. Are you able to add a and c? Why or why not?"
   ]
  },
  {
   "cell_type": "code",
   "execution_count": 10,
   "metadata": {},
   "outputs": [
    {
     "name": "stdout",
     "output_type": "stream",
     "text": [
      "[[1 1]\n",
      " [1 1]\n",
      " [1 1]]\n"
     ]
    }
   ],
   "source": [
    "# your code here\n",
    "c = [[1, 1], [1, 1], [1, 1]]\n",
    "c = np.array(c)\n",
    "print(c)"
   ]
  },
  {
   "cell_type": "markdown",
   "metadata": {},
   "source": [
    "Transpose c so that it has the same structure of a (i.e. become a 2x3 array). Assign the transposed array to variable \"d\". Are you able to add a and d?"
   ]
  },
  {
   "cell_type": "code",
   "execution_count": 14,
   "metadata": {},
   "outputs": [
    {
     "name": "stdout",
     "output_type": "stream",
     "text": [
      "[[1 1 1]\n",
      " [1 1 1]]\n"
     ]
    }
   ],
   "source": [
    "# your code here\n",
    "d = np.transpose(c)\n",
    "print (d)"
   ]
  },
  {
   "cell_type": "markdown",
   "metadata": {},
   "source": [
    "Which combination of arrays are you able to multiply with each other? Why?"
   ]
  },
  {
   "cell_type": "code",
   "execution_count": 5,
   "metadata": {},
   "outputs": [],
   "source": [
    "# your code here\n"
   ]
  },
  {
   "cell_type": "markdown",
   "metadata": {},
   "source": [
    "Create a list which contains the numbers from 0 to 10. Square the list elementwise using numpy functions."
   ]
  },
  {
   "cell_type": "code",
   "execution_count": 16,
   "metadata": {},
   "outputs": [
    {
     "name": "stdout",
     "output_type": "stream",
     "text": [
      "[  0   1   4   9  16  25  36  49  64  81 100]\n"
     ]
    }
   ],
   "source": [
    "# your code here\n",
    "lst = [0, 1, 2, 3, 4, 5, 6, 7, 8, 9, 10]\n",
    "e = np.square (lst)\n",
    "print(e)\n"
   ]
  },
  {
   "cell_type": "markdown",
   "metadata": {},
   "source": [
    "Create a numpy array of size 10x10 which has random numbers between 0 and 100 on the main diagonal and zeros otherwise."
   ]
  },
  {
   "cell_type": "code",
   "execution_count": 22,
   "metadata": {},
   "outputs": [
    {
     "name": "stdout",
     "output_type": "stream",
     "text": [
      "[[48  0  0  0  0  0  0  0  0  0]\n",
      " [ 0  4  0  0  0  0  0  0  0  0]\n",
      " [ 0  0 79  0  0  0  0  0  0  0]\n",
      " [ 0  0  0 48  0  0  0  0  0  0]\n",
      " [ 0  0  0  0 93  0  0  0  0  0]\n",
      " [ 0  0  0  0  0 20  0  0  0  0]\n",
      " [ 0  0  0  0  0  0 18  0  0  0]\n",
      " [ 0  0  0  0  0  0  0 28  0  0]\n",
      " [ 0  0  0  0  0  0  0  0 62  0]\n",
      " [ 0  0  0  0  0  0  0  0  0 32]]\n"
     ]
    }
   ],
   "source": [
    "# your code here\n",
    "f = np.zeros((10, 10), int)\n",
    "\n",
    "diagonal_entries = np.random.randint(low = 0, high = 100, size = 10)\n",
    "\n",
    "np.fill_diagonal(f, diagonal_entries)\n",
    "\n",
    "print(f)"
   ]
  },
  {
   "cell_type": "code",
   "execution_count": null,
   "metadata": {},
   "outputs": [],
   "source": []
  }
 ],
 "metadata": {
  "kernelspec": {
   "display_name": "Python 3",
   "language": "python",
   "name": "python3"
  },
  "language_info": {
   "codemirror_mode": {
    "name": "ipython",
    "version": 3
   },
   "file_extension": ".py",
   "mimetype": "text/x-python",
   "name": "python",
   "nbconvert_exporter": "python",
   "pygments_lexer": "ipython3",
   "version": "3.7.7"
  }
 },
 "nbformat": 4,
 "nbformat_minor": 2
}
